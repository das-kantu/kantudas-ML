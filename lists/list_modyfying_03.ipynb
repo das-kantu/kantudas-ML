{
 "cells": [
  {
   "cell_type": "markdown",
   "id": "9b2f0073-2b9b-427c-8996-2284e1c46050",
   "metadata": {},
   "source": [
    "# Example 3: Modifying List Elements\n",
    "# Lists in Python are mutable, meaning their values can be changed.\n",
    "# You can modify an element by assigning a new value at a specific index."
   ]
  },
  {
   "cell_type": "code",
   "execution_count": 1,
   "id": "83dc8445-745c-422c-b5bd-22ec5ea1c28f",
   "metadata": {},
   "outputs": [],
   "source": [
    "# example list:\n",
    "\n",
    "# my_list = [1, 2, 3, 4]"
   ]
  },
  {
   "cell_type": "code",
   "execution_count": 2,
   "id": "17521d09-7646-4031-b568-9c3f616dbafb",
   "metadata": {},
   "outputs": [],
   "source": [
    "# modifying the first element:\n",
    "\n",
    "# my_list[0] = 10"
   ]
  },
  {
   "cell_type": "code",
   "execution_count": 4,
   "id": "489bab4a-d3b5-4342-aa8e-d007ff8f29e3",
   "metadata": {},
   "outputs": [
    {
     "name": "stdout",
     "output_type": "stream",
     "text": [
      "Modified List: [10, 2, 3, 4]\n"
     ]
    }
   ],
   "source": [
    "# printing the modyfying list:\n",
    "# print('Modified List:', my_list)"
   ]
  },
  {
   "cell_type": "code",
   "execution_count": 1,
   "id": "724e1237-31e6-4dfe-a7cd-2c95b53c89e6",
   "metadata": {},
   "outputs": [],
   "source": [
    "# example list:\n",
    "\n",
    "motorcycles = ['honda', 'yamaha', 'ducati', 'suzuki']"
   ]
  },
  {
   "cell_type": "code",
   "execution_count": 4,
   "id": "2f6a3617-0f18-4802-b89d-09e5099784e4",
   "metadata": {},
   "outputs": [],
   "source": [
    "# modyfying the list:\n",
    "\n",
    "motorcycles[0] = 'subaru'"
   ]
  },
  {
   "cell_type": "code",
   "execution_count": 6,
   "id": "8b7a6e10-d4fb-4cb1-933e-756414bb4432",
   "metadata": {},
   "outputs": [
    {
     "name": "stdout",
     "output_type": "stream",
     "text": [
      "Modified List: ['subaru', 'yamaha', 'ducati', 'suzuki']\n"
     ]
    }
   ],
   "source": [
    "# printing the modyfying list:\n",
    "\n",
    "print('Modified List:',motorcycles)"
   ]
  },
  {
   "cell_type": "code",
   "execution_count": null,
   "id": "e496ee99-6a30-469b-a2e8-2407624615f9",
   "metadata": {},
   "outputs": [],
   "source": []
  }
 ],
 "metadata": {
  "kernelspec": {
   "display_name": "Python 3 (ipykernel)",
   "language": "python",
   "name": "python3"
  },
  "language_info": {
   "codemirror_mode": {
    "name": "ipython",
    "version": 3
   },
   "file_extension": ".py",
   "mimetype": "text/x-python",
   "name": "python",
   "nbconvert_exporter": "python",
   "pygments_lexer": "ipython3",
   "version": "3.10.13"
  }
 },
 "nbformat": 4,
 "nbformat_minor": 5
}
