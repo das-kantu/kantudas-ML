{
 "cells": [
  {
   "cell_type": "markdown",
   "id": "f42c2398-2ee5-4bf0-b294-af8d2a81d8f0",
   "metadata": {},
   "source": [
    "# Example 4: Adding Elements to a List\n",
    "# You can add elements to a list using the append() or insert() methods.\n",
    "# append() adds an element to the end, while insert() adds an element at a specific index.\n"
   ]
  },
  {
   "cell_type": "code",
   "execution_count": 1,
   "id": "0ce47287-f155-460d-9e83-8422856c3bea",
   "metadata": {},
   "outputs": [],
   "source": [
    "# example list:\n",
    "\n",
    "# my_list = [1, 2, 3]"
   ]
  },
  {
   "cell_type": "code",
   "execution_count": 4,
   "id": "9e2594a5-37c8-490a-8aae-859b1121df9e",
   "metadata": {},
   "outputs": [],
   "source": [
    "# adding elements:\n",
    "\n",
    "# my_list.append(4)\n",
    "# my_list.insert(1, 'inserted')\n"
   ]
  },
  {
   "cell_type": "code",
   "execution_count": 8,
   "id": "acf5b589-8f37-427e-b842-e0266a0034e6",
   "metadata": {},
   "outputs": [],
   "source": [
    "# printing the updated list:\n",
    "\n",
    "# print('Updated List:', my_list)"
   ]
  },
  {
   "cell_type": "code",
   "execution_count": 2,
   "id": "74e651cd-0ca0-403f-971d-33ee3cc8a4e0",
   "metadata": {},
   "outputs": [],
   "source": [
    "# example list:\n",
    "\n",
    "my_list = ['trek', 'cannondale','redline','specialized']"
   ]
  },
  {
   "cell_type": "code",
   "execution_count": 5,
   "id": "9b0e6a05-2697-4920-8ec0-cc70bf88eccc",
   "metadata": {},
   "outputs": [],
   "source": [
    "# adding elements:\n",
    "\n",
    "my_list.append('suzuki')\n",
    "my_list.insert(1, 'yamaha')"
   ]
  },
  {
   "cell_type": "code",
   "execution_count": 7,
   "id": "982d9385-0a20-48a8-85d3-145017917479",
   "metadata": {},
   "outputs": [
    {
     "name": "stdout",
     "output_type": "stream",
     "text": [
      "Updated My List: ['trek', 'yamaha', 'cannondale', 'redline', 'specialized', 'suzuki', 'suzuki']\n"
     ]
    }
   ],
   "source": [
    "# printing the updated list:\n",
    "\n",
    "print('Updated My List:',my_list)"
   ]
  },
  {
   "cell_type": "code",
   "execution_count": null,
   "id": "008bedbc-9cde-4055-b468-f240f0e83d8c",
   "metadata": {},
   "outputs": [],
   "source": []
  }
 ],
 "metadata": {
  "kernelspec": {
   "display_name": "Python 3 (ipykernel)",
   "language": "python",
   "name": "python3"
  },
  "language_info": {
   "codemirror_mode": {
    "name": "ipython",
    "version": 3
   },
   "file_extension": ".py",
   "mimetype": "text/x-python",
   "name": "python",
   "nbconvert_exporter": "python",
   "pygments_lexer": "ipython3",
   "version": "3.10.13"
  }
 },
 "nbformat": 4,
 "nbformat_minor": 5
}
