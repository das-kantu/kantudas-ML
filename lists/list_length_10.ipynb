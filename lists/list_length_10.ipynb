{
 "cells": [
  {
   "cell_type": "markdown",
   "id": "32c5582e-df7b-49f8-8cc1-d4d273cbafdb",
   "metadata": {},
   "source": [
    "# Example 10: List Length\n",
    "# The len() function is used to find the number of elements in a list.\n"
   ]
  },
  {
   "cell_type": "code",
   "execution_count": 1,
   "id": "1683187d-57a3-418f-952f-84a0db931334",
   "metadata": {},
   "outputs": [],
   "source": [
    "# example list:\n",
    "\n",
    "# my_list = [1, 2, 3, 4, 5]"
   ]
  },
  {
   "cell_type": "code",
   "execution_count": 2,
   "id": "8dd67a55-db1a-4a68-9fc2-b453e047180f",
   "metadata": {},
   "outputs": [],
   "source": [
    "# getting the length of the list:\n",
    "\n",
    "# length_list = len(my_list)"
   ]
  },
  {
   "cell_type": "code",
   "execution_count": 4,
   "id": "484324a4-0b52-4e00-bdce-bee4d33c7baa",
   "metadata": {},
   "outputs": [
    {
     "name": "stdout",
     "output_type": "stream",
     "text": [
      "Length Of List: 5\n"
     ]
    }
   ],
   "source": [
    "# print('Length Of List:',length_list)"
   ]
  },
  {
   "cell_type": "code",
   "execution_count": 9,
   "id": "27902fe0-9796-44a5-b838-d25775b717a5",
   "metadata": {},
   "outputs": [],
   "source": [
    "# example list:\n",
    "\n",
    "motorcycles = ['honda', 'yamaha', 'ducati', 'suzuki']"
   ]
  },
  {
   "cell_type": "code",
   "execution_count": 10,
   "id": "18d2afd6-2680-4a8d-9c23-14e255ff1df3",
   "metadata": {},
   "outputs": [],
   "source": [
    "# getting the length of the list:\n",
    "\n",
    "length_list = len(motorcycles)"
   ]
  },
  {
   "cell_type": "code",
   "execution_count": 11,
   "id": "16e1cedf-9fed-43f8-a089-c7ede43f7da9",
   "metadata": {},
   "outputs": [
    {
     "name": "stdout",
     "output_type": "stream",
     "text": [
      "Length of list: 4\n"
     ]
    }
   ],
   "source": [
    "# print the length of list:\n",
    "\n",
    "print('Length of list:',length_list)"
   ]
  },
  {
   "cell_type": "code",
   "execution_count": null,
   "id": "17efc46c-feff-4f22-8ffe-97512ae3b9df",
   "metadata": {},
   "outputs": [],
   "source": []
  }
 ],
 "metadata": {
  "kernelspec": {
   "display_name": "Python 3 (ipykernel)",
   "language": "python",
   "name": "python3"
  },
  "language_info": {
   "codemirror_mode": {
    "name": "ipython",
    "version": 3
   },
   "file_extension": ".py",
   "mimetype": "text/x-python",
   "name": "python",
   "nbconvert_exporter": "python",
   "pygments_lexer": "ipython3",
   "version": "3.10.13"
  }
 },
 "nbformat": 4,
 "nbformat_minor": 5
}
