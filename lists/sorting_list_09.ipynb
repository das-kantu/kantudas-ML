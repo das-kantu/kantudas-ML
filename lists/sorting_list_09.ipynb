{
 "cells": [
  {
   "cell_type": "code",
   "execution_count": 1,
   "id": "f622737e-0919-44a9-850f-c9b2603cbf90",
   "metadata": {},
   "outputs": [],
   "source": [
    "\n",
    "# Example 9: Sorting a List\n",
    "# The sort() method sorts a list in ascending order.\n",
    "# You can also sort in descending order by setting the reverse parameter to True.\n"
   ]
  },
  {
   "cell_type": "code",
   "execution_count": 2,
   "id": "1a004876-1010-42cd-8139-376635f76d4e",
   "metadata": {},
   "outputs": [],
   "source": [
    "# example list:\n",
    "\n",
    "# number_list = [5, 2, 9, 1, 5, 6]"
   ]
  },
  {
   "cell_type": "code",
   "execution_count": 4,
   "id": "9e9dc3dd-ef83-43e5-afbc-14f8790c2d87",
   "metadata": {},
   "outputs": [
    {
     "name": "stdout",
     "output_type": "stream",
     "text": [
      "Sorted List (Ascending): [1, 2, 5, 5, 6, 9]\n"
     ]
    }
   ],
   "source": [
    "# sorting in ascending order:\n",
    "\n",
    "number_list.sort()\n",
    "print('Sorted List (Ascending):',number_list)"
   ]
  },
  {
   "cell_type": "code",
   "execution_count": 7,
   "id": "6d57845a-4c30-468a-bc69-ee79dd3a8635",
   "metadata": {},
   "outputs": [
    {
     "name": "stdout",
     "output_type": "stream",
     "text": [
      "Sorted List (Descending): [9, 6, 5, 5, 2, 1]\n"
     ]
    }
   ],
   "source": [
    "# sorting in decending order:\n",
    "number_list.sort(reverse=True)\n",
    "print('Sorted List (Descending):', number_list)"
   ]
  },
  {
   "cell_type": "code",
   "execution_count": 1,
   "id": "386107eb-7303-47b9-9a82-2588f5f975cb",
   "metadata": {},
   "outputs": [],
   "source": [
    "# example list:\n",
    "motorcycles = ['honda', 'yamaha', 'ducati', 'suzuki']"
   ]
  },
  {
   "cell_type": "code",
   "execution_count": 4,
   "id": "444abe4a-2aa1-49ec-81c3-6ed70f71b08e",
   "metadata": {},
   "outputs": [
    {
     "name": "stdout",
     "output_type": "stream",
     "text": [
      "Sorted List(Ascending): ['ducati', 'honda', 'suzuki', 'yamaha']\n"
     ]
    }
   ],
   "source": [
    "# sorting in ascending order:\n",
    "\n",
    "motorcycles.sort()\n",
    "print('Sorted List(Ascending):', motorcycles)"
   ]
  },
  {
   "cell_type": "code",
   "execution_count": 5,
   "id": "4aa622cd-85e3-4e51-92ed-607eb66f9988",
   "metadata": {},
   "outputs": [
    {
     "name": "stdout",
     "output_type": "stream",
     "text": [
      "Sorted List (Descending): ['yamaha', 'suzuki', 'honda', 'ducati']\n"
     ]
    }
   ],
   "source": [
    "# sorting in decending order:\n",
    "motorcycles.sort(reverse= True)\n",
    "print('Sorted List (Descending):',motorcycles)"
   ]
  },
  {
   "cell_type": "code",
   "execution_count": null,
   "id": "94e04479-dc34-4a84-91c9-4a1339d0174d",
   "metadata": {},
   "outputs": [],
   "source": []
  }
 ],
 "metadata": {
  "kernelspec": {
   "display_name": "Python 3 (ipykernel)",
   "language": "python",
   "name": "python3"
  },
  "language_info": {
   "codemirror_mode": {
    "name": "ipython",
    "version": 3
   },
   "file_extension": ".py",
   "mimetype": "text/x-python",
   "name": "python",
   "nbconvert_exporter": "python",
   "pygments_lexer": "ipython3",
   "version": "3.10.13"
  }
 },
 "nbformat": 4,
 "nbformat_minor": 5
}
