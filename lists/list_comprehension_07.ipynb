{
 "cells": [
  {
   "cell_type": "markdown",
   "id": "222a6918-0417-4bb2-9d2a-f81d25c70cf3",
   "metadata": {},
   "source": [
    " # Example 7: List Comprehension\n",
    "# List comprehension is a concise way to create lists using an expression and iteration.\n",
    "# It can be used to generate new lists from existing ones."
   ]
  },
  {
   "cell_type": "code",
   "execution_count": 1,
   "id": "06c257b9-9868-4078-95ee-af1bad7196a3",
   "metadata": {},
   "outputs": [],
   "source": [
    "# creating a list of squares of numbers from 0 to 4:\n",
    "\n",
    "# squared_list = [x **2 for x in range(5)]"
   ]
  },
  {
   "cell_type": "code",
   "execution_count": 3,
   "id": "b1e9f06b-779d-4cf3-ad37-b970d2a4979d",
   "metadata": {},
   "outputs": [
    {
     "name": "stdout",
     "output_type": "stream",
     "text": [
      "Squared List: [0, 1, 4, 9, 16]\n"
     ]
    }
   ],
   "source": [
    "# printing the list:\n",
    "# print('Squared List:', squared_list)"
   ]
  },
  {
   "cell_type": "code",
   "execution_count": 4,
   "id": "c5b6e7a5-4be2-4105-a903-b574d7332ebf",
   "metadata": {},
   "outputs": [],
   "source": [
    "# creating a list of cube of numbers from 0 to 4:\n",
    "\n",
    "cube = [x**3 for x in range(5)]"
   ]
  },
  {
   "cell_type": "code",
   "execution_count": 5,
   "id": "a65089ae-78e9-4366-b82d-ac341351de22",
   "metadata": {},
   "outputs": [
    {
     "name": "stdout",
     "output_type": "stream",
     "text": [
      "Cube List: [0, 1, 8, 27, 64]\n"
     ]
    }
   ],
   "source": [
    "print('Cube List:',cube)"
   ]
  },
  {
   "cell_type": "code",
   "execution_count": null,
   "id": "48f9f938-50b3-4d66-86ab-a0ad92830232",
   "metadata": {},
   "outputs": [],
   "source": []
  }
 ],
 "metadata": {
  "kernelspec": {
   "display_name": "Python 3 (ipykernel)",
   "language": "python",
   "name": "python3"
  },
  "language_info": {
   "codemirror_mode": {
    "name": "ipython",
    "version": 3
   },
   "file_extension": ".py",
   "mimetype": "text/x-python",
   "name": "python",
   "nbconvert_exporter": "python",
   "pygments_lexer": "ipython3",
   "version": "3.10.13"
  }
 },
 "nbformat": 4,
 "nbformat_minor": 5
}
