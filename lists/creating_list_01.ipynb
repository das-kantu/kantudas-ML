{
 "cells": [
  {
   "cell_type": "markdown",
   "id": "c9d19256-b8a8-4744-b3b6-33fabd3dc41b",
   "metadata": {},
   "source": [
    " # Example 1: Creating a List\n",
    "# A list is a collection of items in Python, created using square brackets [].\n",
    "# Lists can contain different data types, including numbers, strings, and other lists.\n"
   ]
  },
  {
   "cell_type": "code",
   "execution_count": 1,
   "id": "544fffab-d25e-447c-b1bf-58e45c71e882",
   "metadata": {},
   "outputs": [],
   "source": [
    "# creating a list with various data:\n",
    "\n",
    "# my_list = [1, 2, 3, 'Hello', [4, 5]]"
   ]
  },
  {
   "cell_type": "code",
   "execution_count": 3,
   "id": "7bcc3e4a-d612-4bef-9b47-3d4d2865e16a",
   "metadata": {},
   "outputs": [
    {
     "name": "stdout",
     "output_type": "stream",
     "text": [
      "Created List:  [1, 2, 3, 'Hello', [4, 5]]\n"
     ]
    }
   ],
   "source": [
    "# printing the created list:\n",
    "\n",
    "# print('Created List: ',my_list)"
   ]
  },
  {
   "cell_type": "code",
   "execution_count": 1,
   "id": "135eef59-1c47-4484-87c6-37ab8f38d884",
   "metadata": {},
   "outputs": [],
   "source": [
    "# creating a list with various data:\n",
    "\n",
    "my_list = [1, 2, 3, 'hello', ['yamaha', 'suzuki']]"
   ]
  },
  {
   "cell_type": "code",
   "execution_count": 3,
   "id": "bd052f7e-52b8-4f22-b603-a41580f00133",
   "metadata": {},
   "outputs": [
    {
     "name": "stdout",
     "output_type": "stream",
     "text": [
      "Created List: [1, 2, 3, 'hello', ['yamaha', 'suzuki']]\n"
     ]
    }
   ],
   "source": [
    "# printing the created list:\n",
    "\n",
    "print('Created List:',my_list)"
   ]
  },
  {
   "cell_type": "code",
   "execution_count": null,
   "id": "9e7af7da-d772-4fef-be99-e1b72829276f",
   "metadata": {},
   "outputs": [],
   "source": []
  }
 ],
 "metadata": {
  "kernelspec": {
   "display_name": "Python 3 (ipykernel)",
   "language": "python",
   "name": "python3"
  },
  "language_info": {
   "codemirror_mode": {
    "name": "ipython",
    "version": 3
   },
   "file_extension": ".py",
   "mimetype": "text/x-python",
   "name": "python",
   "nbconvert_exporter": "python",
   "pygments_lexer": "ipython3",
   "version": "3.10.13"
  }
 },
 "nbformat": 4,
 "nbformat_minor": 5
}
