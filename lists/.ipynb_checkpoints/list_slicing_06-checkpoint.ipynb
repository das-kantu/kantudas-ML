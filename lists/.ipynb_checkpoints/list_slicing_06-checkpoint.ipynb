{
 "cells": [
  {
   "cell_type": "markdown",
   "id": "a66ba441-ce65-461b-9fe1-7196e460343c",
   "metadata": {},
   "source": [
    "# Example 6: List Slicing\n",
    "# Slicing allows you to extract a part of the list.\n",
    "# It is done using a colon (:) to specify start, stop, and step indices."
   ]
  },
  {
   "cell_type": "code",
   "execution_count": 1,
   "id": "f0fd22d9-7ae5-4921-bf6c-b7e8346d1c35",
   "metadata": {},
   "outputs": [],
   "source": [
    "# example list:\n",
    "\n",
    "my_list = [10, 20, 30, 40, 50]"
   ]
  },
  {
   "cell_type": "code",
   "execution_count": 2,
   "id": "99992414-88f7-4e1a-894a-1d5aa08ccd1a",
   "metadata": {},
   "outputs": [],
   "source": [
    "# slicing the list from index 1 to 4:\n",
    "\n",
    "sliced_list = my_list[1:4]"
   ]
  },
  {
   "cell_type": "code",
   "execution_count": 4,
   "id": "4e407023-8bb2-4346-a020-5e41d1a3c29a",
   "metadata": {},
   "outputs": [
    {
     "name": "stdout",
     "output_type": "stream",
     "text": [
      "Sliced List: [20, 30, 40]\n"
     ]
    }
   ],
   "source": [
    "# printing the sliced list:\n",
    "print('Sliced List:', sliced_list)"
   ]
  },
  {
   "cell_type": "code",
   "execution_count": null,
   "id": "0ed99cbb-d3e4-4a8b-9d47-fd0acb97cdd7",
   "metadata": {},
   "outputs": [],
   "source": []
  }
 ],
 "metadata": {
  "kernelspec": {
   "display_name": "Python 3 (ipykernel)",
   "language": "python",
   "name": "python3"
  },
  "language_info": {
   "codemirror_mode": {
    "name": "ipython",
    "version": 3
   },
   "file_extension": ".py",
   "mimetype": "text/x-python",
   "name": "python",
   "nbconvert_exporter": "python",
   "pygments_lexer": "ipython3",
   "version": "3.10.13"
  }
 },
 "nbformat": 4,
 "nbformat_minor": 5
}
