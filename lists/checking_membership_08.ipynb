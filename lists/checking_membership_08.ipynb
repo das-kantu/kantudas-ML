{
 "cells": [
  {
   "cell_type": "markdown",
   "id": "153e5b23-f17c-4885-b50f-0896f0aed61e",
   "metadata": {},
   "source": [
    "# Example 8: Checking Membership in a List\n",
    "# You can use the 'in' keyword to check if an element exists in a list.\n"
   ]
  },
  {
   "cell_type": "code",
   "execution_count": 6,
   "id": "35cf7ede-9b90-43fe-a922-94ed067014d5",
   "metadata": {},
   "outputs": [],
   "source": [
    "# example list:\n",
    "\n",
    "# my_list = ['apple','banana', 'cherry']"
   ]
  },
  {
   "cell_type": "code",
   "execution_count": 5,
   "id": "54135d13-e81f-4ab2-a774-3c28f194f78e",
   "metadata": {},
   "outputs": [
    {
     "name": "stdout",
     "output_type": "stream",
     "text": [
      "Banana is not in the list\n"
     ]
    }
   ],
   "source": [
    "# checking for membership:\n",
    "\n",
    "# if 'banana' in my_list:\n",
    "\n",
    "    # print('Banana is in the list')\n",
    "# else:\n",
    "    # print('Banana is not in the list')"
   ]
  },
  {
   "cell_type": "code",
   "execution_count": 4,
   "id": "4c7a5a85-1943-48d1-bf3b-242482224063",
   "metadata": {},
   "outputs": [],
   "source": [
    "# example of list:\n",
    "motorcycles = ['honda', 'yamaha', 'ducati']"
   ]
  },
  {
   "cell_type": "code",
   "execution_count": 5,
   "id": "79ae3654-e6a5-4fab-b220-7c61ffa8858b",
   "metadata": {},
   "outputs": [
    {
     "name": "stdout",
     "output_type": "stream",
     "text": [
      "honda is in the list\n"
     ]
    }
   ],
   "source": [
    "# checking for membership:\n",
    "\n",
    "if 'honda' in motorcycles:\n",
    "    print('honda is in the list')\n",
    "else:\n",
    "    print('honda not in the list')"
   ]
  },
  {
   "cell_type": "code",
   "execution_count": null,
   "id": "d94e3b59-0202-4c8b-9b3b-fb70b4136033",
   "metadata": {},
   "outputs": [],
   "source": []
  }
 ],
 "metadata": {
  "kernelspec": {
   "display_name": "Python 3 (ipykernel)",
   "language": "python",
   "name": "python3"
  },
  "language_info": {
   "codemirror_mode": {
    "name": "ipython",
    "version": 3
   },
   "file_extension": ".py",
   "mimetype": "text/x-python",
   "name": "python",
   "nbconvert_exporter": "python",
   "pygments_lexer": "ipython3",
   "version": "3.10.13"
  }
 },
 "nbformat": 4,
 "nbformat_minor": 5
}
