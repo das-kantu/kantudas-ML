{
 "cells": [
  {
   "cell_type": "markdown",
   "id": "577eecc9-3c5b-40f7-a3a2-f8c7bdca8e16",
   "metadata": {},
   "source": [
    "# Example 2: Accessing List Elements\n",
    "# Elements in a list are accessed using indices.\n",
    "# Indexing starts from 0 (first element) and can also be negative (-1 for the last element).\n"
   ]
  },
  {
   "cell_type": "code",
   "execution_count": 1,
   "id": "8d912a4d-c888-4350-a56f-d8b80f44ea4a",
   "metadata": {},
   "outputs": [],
   "source": [
    "# example list:\n",
    "\n",
    "my_list = [10, 20, 30, 40, 50]"
   ]
  },
  {
   "cell_type": "code",
   "execution_count": 7,
   "id": "caad3c45-9b4f-44ec-8ea1-565f30e8473a",
   "metadata": {},
   "outputs": [],
   "source": [
    "# accessing elements using positive and negative indices:\n",
    "\n",
    "second_element = my_list[1]\n",
    "\n",
    "last_element = my_list[-1]"
   ]
  },
  {
   "cell_type": "code",
   "execution_count": 8,
   "id": "95ab03eb-9331-4e3e-849d-e02e80b05e52",
   "metadata": {},
   "outputs": [
    {
     "name": "stdout",
     "output_type": "stream",
     "text": [
      "Second Elements: 20\n",
      "Last Elements: 50\n"
     ]
    }
   ],
   "source": [
    "# printing accessed elements:\n",
    "\n",
    "print('Second Elements:', second_element)\n",
    "print('Last Elements:', last_element)"
   ]
  },
  {
   "cell_type": "code",
   "execution_count": 1,
   "id": "b129b7fc-d686-4794-8f78-bfc58ab8d3d9",
   "metadata": {},
   "outputs": [],
   "source": [
    "# example of list:\n",
    "\n",
    "my_list = ['trek', 'cannondale','redline','specialized']\n"
   ]
  },
  {
   "cell_type": "code",
   "execution_count": 3,
   "id": "ab15f548-164e-4851-88d3-de9efc96e466",
   "metadata": {},
   "outputs": [],
   "source": [
    "# accessing elements using positive and negative indices:\n",
    "\n",
    "second_element = my_list[1]\n",
    "\n",
    "last_element = my_list[-1]"
   ]
  },
  {
   "cell_type": "code",
   "execution_count": 8,
   "id": "a59a3d3b-1377-48eb-bffb-31845c631b31",
   "metadata": {},
   "outputs": [
    {
     "name": "stdout",
     "output_type": "stream",
     "text": [
      "Second Element: cannondale\n",
      "Last Element: specialized\n"
     ]
    }
   ],
   "source": [
    "# printing accessed elements:\n",
    "\n",
    "print('Second Element:',second_element)\n",
    "print('Last Element:',last_element)"
   ]
  },
  {
   "cell_type": "code",
   "execution_count": null,
   "id": "0c19b808-d30a-495f-a39e-886c8afa2876",
   "metadata": {},
   "outputs": [],
   "source": []
  }
 ],
 "metadata": {
  "kernelspec": {
   "display_name": "Python 3 (ipykernel)",
   "language": "python",
   "name": "python3"
  },
  "language_info": {
   "codemirror_mode": {
    "name": "ipython",
    "version": 3
   },
   "file_extension": ".py",
   "mimetype": "text/x-python",
   "name": "python",
   "nbconvert_exporter": "python",
   "pygments_lexer": "ipython3",
   "version": "3.10.13"
  }
 },
 "nbformat": 4,
 "nbformat_minor": 5
}
