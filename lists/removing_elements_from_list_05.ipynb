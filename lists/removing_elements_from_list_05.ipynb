{
 "cells": [
  {
   "cell_type": "markdown",
   "id": "55611a95-8fd8-4d17-8125-5f441e2e26bd",
   "metadata": {},
   "source": [
    "# Example 5: Removing Elements from a List\n",
    "# You can remove elements from a list using remove() and pop().\n",
    "# remove() deletes the first occurrence of a value, while pop() removes an element by index.\n"
   ]
  },
  {
   "cell_type": "code",
   "execution_count": 8,
   "id": "e37b5595-6044-4445-9914-c1b19f9613bf",
   "metadata": {},
   "outputs": [],
   "source": [
    "# example list:\n",
    "\n",
    "# my_list = ['a', 'b', 'c', 'd']"
   ]
  },
  {
   "cell_type": "code",
   "execution_count": 9,
   "id": "b1aab1d6-1e57-48ba-aee0-3518ffe72777",
   "metadata": {},
   "outputs": [],
   "source": [
    "# removing elements:\n",
    "# my_list.remove('b')\n",
    "# popped_item = my_list.pop(2)"
   ]
  },
  {
   "cell_type": "code",
   "execution_count": 11,
   "id": "15963822-fd38-46ce-a5d8-6545d55687a9",
   "metadata": {},
   "outputs": [
    {
     "name": "stdout",
     "output_type": "stream",
     "text": [
      "List after Removal: ['a', 'c']\n",
      "Popped Item: d\n"
     ]
    }
   ],
   "source": [
    "# printing the list after removal:\n",
    "# print('List after Removal:', my_list)\n",
    "# print('Popped Item:', popped_item)"
   ]
  },
  {
   "cell_type": "code",
   "execution_count": 16,
   "id": "413846dd-1862-4702-9951-3ffc24591208",
   "metadata": {},
   "outputs": [],
   "source": [
    "# example list:\n",
    "\n",
    "motorcycles = ['honda', 'yamaha', 'ducati', 'suzuki']"
   ]
  },
  {
   "cell_type": "code",
   "execution_count": 17,
   "id": "95d6d26b-1c22-4954-b1cf-f4d6739b3ba0",
   "metadata": {},
   "outputs": [],
   "source": [
    "# removing elements:\n",
    "\n",
    "motorcycles.remove('ducati')\n",
    "popped_item = motorcycles.pop(1)"
   ]
  },
  {
   "cell_type": "code",
   "execution_count": 18,
   "id": "02974064-5168-458e-8827-264bc34575f5",
   "metadata": {},
   "outputs": [
    {
     "name": "stdout",
     "output_type": "stream",
     "text": [
      "List After Removal: ['honda', 'suzuki']\n",
      "Popped Item: yamaha\n"
     ]
    }
   ],
   "source": [
    "print('List After Removal:',motorcycles)\n",
    "print('Popped Item:', popped_item)"
   ]
  },
  {
   "cell_type": "code",
   "execution_count": null,
   "id": "0e8baa2a-5c67-4260-b5a3-81228d81ca7f",
   "metadata": {},
   "outputs": [],
   "source": []
  }
 ],
 "metadata": {
  "kernelspec": {
   "display_name": "Python 3 (ipykernel)",
   "language": "python",
   "name": "python3"
  },
  "language_info": {
   "codemirror_mode": {
    "name": "ipython",
    "version": 3
   },
   "file_extension": ".py",
   "mimetype": "text/x-python",
   "name": "python",
   "nbconvert_exporter": "python",
   "pygments_lexer": "ipython3",
   "version": "3.10.13"
  }
 },
 "nbformat": 4,
 "nbformat_minor": 5
}
