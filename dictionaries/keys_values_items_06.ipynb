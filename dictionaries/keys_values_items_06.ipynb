{
 "cells": [
  {
   "cell_type": "markdown",
   "metadata": {
    "id": "pN5fXe1-AFv-"
   },
   "source": [
    "# Example 6: Dictionary Keys, Values, and Items\n",
    "# You can retrieve all keys, values, or key-value pairs using the keys(), values(), and items() methods, respectively.\n"
   ]
  },
  {
   "cell_type": "code",
   "execution_count": 1,
   "metadata": {
    "executionInfo": {
     "elapsed": 422,
     "status": "ok",
     "timestamp": 1729882081383,
     "user": {
      "displayName": "kantu das",
      "userId": "10518665960888698289"
     },
     "user_tz": -360
    },
    "id": "zOHnXal-_zLF"
   },
   "outputs": [],
   "source": [
    "# # Example dictionary\n",
    "# my_dict = {\n",
    "\n",
    "#       'name': 'John',\n",
    "#       'age': 25,\n",
    "#       'city': 'New York'\n",
    "\n",
    "#       }\n"
   ]
  },
  {
   "cell_type": "code",
   "execution_count": 2,
   "metadata": {
    "executionInfo": {
     "elapsed": 3,
     "status": "ok",
     "timestamp": 1729882178647,
     "user": {
      "displayName": "kantu das",
      "userId": "10518665960888698289"
     },
     "user_tz": -360
    },
    "id": "RaIiEVyOAU89"
   },
   "outputs": [],
   "source": [
    "# retriving keys, values and items:\n",
    "\n",
    "# keys = my_dict.keys()\n",
    "# values = my_dict.values()\n",
    "# items = my_dict.items()"
   ]
  },
  {
   "cell_type": "code",
   "execution_count": 6,
   "metadata": {
    "colab": {
     "base_uri": "https://localhost:8080/"
    },
    "executionInfo": {
     "elapsed": 408,
     "status": "ok",
     "timestamp": 1729882297427,
     "user": {
      "displayName": "kantu das",
      "userId": "10518665960888698289"
     },
     "user_tz": -360
    },
    "id": "m8yyEPQDAz9f",
    "outputId": "dba5e2d0-4b45-4435-f964-bf051f44fb97"
   },
   "outputs": [],
   "source": [
    "# printing keys, values and items:\n",
    "\n",
    "# print('Keys:',keys)\n",
    "# print('Values:',values)\n",
    "# print('Items:',items)"
   ]
  },
  {
   "cell_type": "code",
   "execution_count": 2,
   "metadata": {
    "id": "8tpUDNtaA7Xl"
   },
   "outputs": [],
   "source": [
    "# example of dictionary:\n",
    "\n",
    "favourite_language = {\n",
    "\n",
    "\n",
    "                'jen': 'python',\n",
    "                'age' : 30,\n",
    "                'city': 'California'\n",
    "}"
   ]
  },
  {
   "cell_type": "code",
   "execution_count": 3,
   "metadata": {},
   "outputs": [],
   "source": [
    "# retriving keys, values and items:\n",
    "\n",
    "keys = favourite_language.keys()\n",
    "values = favourite_language.values()\n",
    "items  = favourite_language.items()"
   ]
  },
  {
   "cell_type": "code",
   "execution_count": 5,
   "metadata": {},
   "outputs": [
    {
     "name": "stdout",
     "output_type": "stream",
     "text": [
      "Keys of Dictionaries: dict_keys(['jen', 'age', 'city'])\n",
      "Values of Dictionaries: dict_values(['python', 30, 'California'])\n",
      "Items of Dictionaries: dict_items([('jen', 'python'), ('age', 30), ('city', 'California')])\n"
     ]
    }
   ],
   "source": [
    "# printing keys , values and items:\n",
    "\n",
    "print('Keys of Dictionaries:',keys)\n",
    "print('Values of Dictionaries:',values)\n",
    "print('Items of Dictionaries:',items)\n"
   ]
  },
  {
   "cell_type": "code",
   "execution_count": null,
   "metadata": {},
   "outputs": [],
   "source": []
  }
 ],
 "metadata": {
  "colab": {
   "authorship_tag": "ABX9TyN3sLvaBhd329fqugOWa/le",
   "provenance": []
  },
  "kernelspec": {
   "display_name": "Python 3 (ipykernel)",
   "language": "python",
   "name": "python3"
  },
  "language_info": {
   "codemirror_mode": {
    "name": "ipython",
    "version": 3
   },
   "file_extension": ".py",
   "mimetype": "text/x-python",
   "name": "python",
   "nbconvert_exporter": "python",
   "pygments_lexer": "ipython3",
   "version": "3.10.13"
  }
 },
 "nbformat": 4,
 "nbformat_minor": 4
}
