{
 "cells": [
  {
   "cell_type": "markdown",
   "metadata": {
    "id": "Q56sTnHD5nEM"
   },
   "source": [
    "# Example 4: Adding Key-Value Pairs to a Dictionary\n",
    "# You can add new key-value pairs to a dictionary by assigning a value to a new key."
   ]
  },
  {
   "cell_type": "code",
   "execution_count": 1,
   "metadata": {
    "executionInfo": {
     "elapsed": 1463,
     "status": "ok",
     "timestamp": 1729880467470,
     "user": {
      "displayName": "kantu das",
      "userId": "10518665960888698289"
     },
     "user_tz": -360
    },
    "id": "2QnPQVdw5dEg"
   },
   "outputs": [],
   "source": [
    "# example dictionary:\n",
    "\n",
    "# my_dict = {\n",
    "\n",
    "#            'name': 'John',\n",
    "#            'age': 25\n",
    "# }\n"
   ]
  },
  {
   "cell_type": "code",
   "execution_count": 2,
   "metadata": {
    "executionInfo": {
     "elapsed": 873,
     "status": "ok",
     "timestamp": 1729880505151,
     "user": {
      "displayName": "kantu das",
      "userId": "10518665960888698289"
     },
     "user_tz": -360
    },
    "id": "Wanx0f1Q6NTI"
   },
   "outputs": [],
   "source": [
    "# adding a new value key pair:\n",
    "\n",
    "# my_dict['city'] = 'New York'"
   ]
  },
  {
   "cell_type": "code",
   "execution_count": 4,
   "metadata": {
    "colab": {
     "base_uri": "https://localhost:8080/"
    },
    "executionInfo": {
     "elapsed": 499,
     "status": "ok",
     "timestamp": 1729880571209,
     "user": {
      "displayName": "kantu das",
      "userId": "10518665960888698289"
     },
     "user_tz": -360
    },
    "id": "2eCcNRzN6bGY",
    "outputId": "fc0aba93-3441-4e37-b713-4107c615aea6"
   },
   "outputs": [
    {
     "name": "stdout",
     "output_type": "stream",
     "text": [
      "Updated Dictionary: {'name': 'John', 'age': 25, 'city': 'New York'}\n"
     ]
    }
   ],
   "source": [
    "# printing the updated dictionary:\n",
    "\n",
    "# print('Updated Dictionary:', my_dict)"
   ]
  },
  {
   "cell_type": "code",
   "execution_count": 1,
   "metadata": {
    "id": "-EgqZrRV6nq1"
   },
   "outputs": [],
   "source": [
    " # example of dictionary:\n",
    "\n",
    "favourite_language = {\n",
    "\n",
    "\n",
    "                'jen': 'python',\n",
    "                'age' : 25,\n",
    "                \n",
    "}"
   ]
  },
  {
   "cell_type": "code",
   "execution_count": 2,
   "metadata": {},
   "outputs": [],
   "source": [
    "# adding a new value key pair:\n",
    "\n",
    "favourite_language['city'] = 'New York'"
   ]
  },
  {
   "cell_type": "code",
   "execution_count": 4,
   "metadata": {},
   "outputs": [
    {
     "name": "stdout",
     "output_type": "stream",
     "text": [
      "Updated Dictionary: {'jen': 'python', 'age': 25, 'city': 'New York'}\n"
     ]
    }
   ],
   "source": [
    "# printing the updated dictionary:\n",
    "\n",
    "print('Updated Dictionary:', favourite_language)"
   ]
  },
  {
   "cell_type": "code",
   "execution_count": null,
   "metadata": {},
   "outputs": [],
   "source": []
  }
 ],
 "metadata": {
  "colab": {
   "authorship_tag": "ABX9TyM5XxSisWWw2D6g6m0mkU3p",
   "provenance": []
  },
  "kernelspec": {
   "display_name": "Python 3 (ipykernel)",
   "language": "python",
   "name": "python3"
  },
  "language_info": {
   "codemirror_mode": {
    "name": "ipython",
    "version": 3
   },
   "file_extension": ".py",
   "mimetype": "text/x-python",
   "name": "python",
   "nbconvert_exporter": "python",
   "pygments_lexer": "ipython3",
   "version": "3.10.13"
  }
 },
 "nbformat": 4,
 "nbformat_minor": 4
}
