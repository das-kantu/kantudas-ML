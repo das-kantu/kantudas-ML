{
 "cells": [
  {
   "cell_type": "markdown",
   "metadata": {
    "id": "wDBepOEq7Mqj"
   },
   "source": [
    "# Example 7: Checking Membership in a Dictionary\n",
    "# You can use the 'in' keyword to check if a key exists in a dictionary."
   ]
  },
  {
   "cell_type": "code",
   "execution_count": 8,
   "metadata": {
    "executionInfo": {
     "elapsed": 432,
     "status": "ok",
     "timestamp": 1729881585420,
     "user": {
      "displayName": "kantu das",
      "userId": "10518665960888698289"
     },
     "user_tz": -360
    },
    "id": "NaTcXXJr7IcN"
   },
   "outputs": [],
   "source": [
    "# # example dictionary:\n",
    "# my_dict = {\n",
    "#       'name': 'John',\n",
    "#       'age': 25\n",
    "#       }\n"
   ]
  },
  {
   "cell_type": "code",
   "execution_count": 9,
   "metadata": {
    "colab": {
     "base_uri": "https://localhost:8080/"
    },
    "executionInfo": {
     "elapsed": 411,
     "status": "ok",
     "timestamp": 1729881588088,
     "user": {
      "displayName": "kantu das",
      "userId": "10518665960888698289"
     },
     "user_tz": -360
    },
    "id": "eFs829Xi7gZL",
    "outputId": "f11b06ad-5b65-4adb-cfea-adc046849fce"
   },
   "outputs": [
    {
     "name": "stdout",
     "output_type": "stream",
     "text": [
      "Key \"name\" exist in the dictionary:\n"
     ]
    }
   ],
   "source": [
    "# checking for membership:\n",
    "\n",
    "if 'name' in my_dict:\n",
    "    print('Key \"name\" exist in the dictionary:')\n",
    "else:\n",
    "  print('key \"name\" does not exist in the dictionary')\n",
    "\n"
   ]
  },
  {
   "cell_type": "code",
   "execution_count": 6,
   "metadata": {},
   "outputs": [],
   "source": [
    "# example dictionary:\n",
    "\n",
    "\n",
    "favourite_language = {\n",
    "\n",
    "                'name': 'python',\n",
    "                'age' : 25,\n",
    "                \n",
    "}"
   ]
  },
  {
   "cell_type": "code",
   "execution_count": 7,
   "metadata": {},
   "outputs": [
    {
     "name": "stdout",
     "output_type": "stream",
     "text": [
      "Key \"jen\" does not exist in the dictionary\n"
     ]
    }
   ],
   "source": [
    "# checking for membership:\n",
    "\n",
    "if 'jen' in favourite_language:\n",
    "    print('Key \"name\" exist in the dictionary')\n",
    "else:\n",
    "    print('Key \"\" does not exist in the dictionary')\n"
   ]
  },
  {
   "cell_type": "code",
   "execution_count": null,
   "metadata": {},
   "outputs": [],
   "source": []
  },
  {
   "cell_type": "code",
   "execution_count": null,
   "metadata": {},
   "outputs": [],
   "source": []
  },
  {
   "cell_type": "code",
   "execution_count": null,
   "metadata": {},
   "outputs": [],
   "source": []
  },
  {
   "cell_type": "code",
   "execution_count": null,
   "metadata": {},
   "outputs": [],
   "source": []
  },
  {
   "cell_type": "code",
   "execution_count": null,
   "metadata": {},
   "outputs": [],
   "source": []
  }
 ],
 "metadata": {
  "colab": {
   "authorship_tag": "ABX9TyO3ly4jN8GoSAvDUAtSi2sX",
   "provenance": []
  },
  "kernelspec": {
   "display_name": "Python 3 (ipykernel)",
   "language": "python",
   "name": "python3"
  },
  "language_info": {
   "codemirror_mode": {
    "name": "ipython",
    "version": 3
   },
   "file_extension": ".py",
   "mimetype": "text/x-python",
   "name": "python",
   "nbconvert_exporter": "python",
   "pygments_lexer": "ipython3",
   "version": "3.10.13"
  }
 },
 "nbformat": 4,
 "nbformat_minor": 4
}
