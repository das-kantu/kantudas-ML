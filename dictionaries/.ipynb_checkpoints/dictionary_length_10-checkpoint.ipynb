{
 "cells": [
  {
   "cell_type": "markdown",
   "metadata": {
    "id": "8-FnF-kwBqju"
   },
   "source": [
    "# Example 10: Dictionary Length\n",
    "# The len() function is used to find the number of key-value pairs in a dictionary."
   ]
  },
  {
   "cell_type": "code",
   "execution_count": 1,
   "metadata": {
    "executionInfo": {
     "elapsed": 407,
     "status": "ok",
     "timestamp": 1729882480393,
     "user": {
      "displayName": "kantu das",
      "userId": "10518665960888698289"
     },
     "user_tz": -360
    },
    "id": "LebKuqquBkBu"
   },
   "outputs": [],
   "source": [
    "# # example dictionary\n",
    "# my_dict = {\n",
    "\n",
    "#           'name': 'John',\n",
    "#           'age': 25,\n",
    "#           'city': 'New York'\n",
    "\n",
    "#           }"
   ]
  },
  {
   "cell_type": "code",
   "execution_count": 3,
   "metadata": {
    "executionInfo": {
     "elapsed": 423,
     "status": "ok",
     "timestamp": 1729882541197,
     "user": {
      "displayName": "kantu das",
      "userId": "10518665960888698289"
     },
     "user_tz": -360
    },
    "id": "ahUy7n03B7T4"
   },
   "outputs": [],
   "source": [
    "# # getting the length of the dictionary:\n",
    "\n",
    "# dict_length = len(my_dict)"
   ]
  },
  {
   "cell_type": "code",
   "execution_count": 5,
   "metadata": {
    "colab": {
     "base_uri": "https://localhost:8080/"
    },
    "executionInfo": {
     "elapsed": 406,
     "status": "ok",
     "timestamp": 1729882620732,
     "user": {
      "displayName": "kantu das",
      "userId": "10518665960888698289"
     },
     "user_tz": -360
    },
    "id": "JHCE1IV8CHlq",
    "outputId": "72af811f-6d34-433f-f291-d1c691cf9868"
   },
   "outputs": [
    {
     "name": "stdout",
     "output_type": "stream",
     "text": [
      "Length of Dictionary: 3\n"
     ]
    }
   ],
   "source": [
    "# printing the length:\n",
    "# print('Length of Dictionary:', dict_length)"
   ]
  },
  {
   "cell_type": "code",
   "execution_count": 1,
   "metadata": {
    "id": "2idIRQcQCWn0"
   },
   "outputs": [],
   "source": [
    "# example of dictionary:\n",
    "\n",
    "favourite_language = {\n",
    "\n",
    "\n",
    "                'jen': 'python',\n",
    "                'age' : 25,\n",
    "                'city': 'New York'\n",
    "}"
   ]
  },
  {
   "cell_type": "code",
   "execution_count": 2,
   "metadata": {},
   "outputs": [],
   "source": [
    "# getting the length of the dictionary:\n",
    "\n",
    "dict_length = len(favourite_language)"
   ]
  },
  {
   "cell_type": "code",
   "execution_count": 3,
   "metadata": {},
   "outputs": [
    {
     "name": "stdout",
     "output_type": "stream",
     "text": [
      "Length of Dictionary: 3\n"
     ]
    }
   ],
   "source": [
    "# printing the length:\n",
    "print('Length of Dictionary:', dict_length)"
   ]
  },
  {
   "cell_type": "code",
   "execution_count": null,
   "metadata": {},
   "outputs": [],
   "source": []
  }
 ],
 "metadata": {
  "colab": {
   "authorship_tag": "ABX9TyOCiICJN+RF8P702Nm6J5on",
   "provenance": []
  },
  "kernelspec": {
   "display_name": "Python 3 (ipykernel)",
   "language": "python",
   "name": "python3"
  },
  "language_info": {
   "codemirror_mode": {
    "name": "ipython",
    "version": 3
   },
   "file_extension": ".py",
   "mimetype": "text/x-python",
   "name": "python",
   "nbconvert_exporter": "python",
   "pygments_lexer": "ipython3",
   "version": "3.10.13"
  }
 },
 "nbformat": 4,
 "nbformat_minor": 4
}
