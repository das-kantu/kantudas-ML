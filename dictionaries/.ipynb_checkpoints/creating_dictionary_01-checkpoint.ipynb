{
 "cells": [
  {
   "cell_type": "markdown",
   "metadata": {
    "id": "Y_9wEOrf-6cl"
   },
   "source": [
    "# Example 1: Creating a Dictionary\n",
    "# A dictionary is a collection of key-value pairs, created using curly braces {}.\n",
    "# Each key is unique, and it is used to access its corresponding value.\n"
   ]
  },
  {
   "cell_type": "code",
   "execution_count": 1,
   "metadata": {
    "executionInfo": {
     "elapsed": 418,
     "status": "ok",
     "timestamp": 1729881768616,
     "user": {
      "displayName": "kantu das",
      "userId": "10518665960888698289"
     },
     "user_tz": -360
    },
    "id": "cFJjmohS8fqD"
   },
   "outputs": [],
   "source": [
    "# creating a dictionary with various key-value pairs\n",
    "my_dict = {\n",
    "\n",
    "      'name': 'John',\n",
    "      'age': 25,\n",
    "      'city': 'New York'\n",
    "\n",
    "      }\n"
   ]
  },
  {
   "cell_type": "code",
   "execution_count": 4,
   "metadata": {
    "colab": {
     "base_uri": "https://localhost:8080/"
    },
    "executionInfo": {
     "elapsed": 402,
     "status": "ok",
     "timestamp": 1729881864534,
     "user": {
      "displayName": "kantu das",
      "userId": "10518665960888698289"
     },
     "user_tz": -360
    },
    "id": "7Uhovf6z_NVK",
    "outputId": "3b245eb8-d906-4783-d622-b6d6470572cc"
   },
   "outputs": [
    {
     "name": "stdout",
     "output_type": "stream",
     "text": [
      "Created Dictionary: {'name': 'John', 'age': 25, 'city': 'New York'}\n"
     ]
    }
   ],
   "source": [
    "# printing the created dictionary:\n",
    "\n",
    "print(\"Created Dictionary:\",my_dict)"
   ]
  },
  {
   "cell_type": "code",
   "execution_count": 1,
   "metadata": {
    "id": "_rdMKawY_ccp"
   },
   "outputs": [],
   "source": [
    "# example of dictionary:\n",
    "# creating a dictionary with various key-value pairs:\n",
    "favourite_language = {\n",
    "\n",
    "\n",
    "                'jen': 'python',\n",
    "                'age' : 25,\n",
    "                'city': 'New York'\n",
    "}"
   ]
  },
  {
   "cell_type": "code",
   "execution_count": 2,
   "metadata": {},
   "outputs": [
    {
     "name": "stdout",
     "output_type": "stream",
     "text": [
      "Created Dictionary: {'jen': 'python', 'age': 25, 'city': 'New York'}\n"
     ]
    }
   ],
   "source": [
    "# printing the created dictionary:\n",
    "\n",
    "print('Created Dictionary:', favourite_language)"
   ]
  },
  {
   "cell_type": "code",
   "execution_count": null,
   "metadata": {},
   "outputs": [],
   "source": []
  }
 ],
 "metadata": {
  "colab": {
   "authorship_tag": "ABX9TyPX6iK9yt6uDzYnoIKQ4igB",
   "provenance": []
  },
  "kernelspec": {
   "display_name": "Python 3 (ipykernel)",
   "language": "python",
   "name": "python3"
  },
  "language_info": {
   "codemirror_mode": {
    "name": "ipython",
    "version": 3
   },
   "file_extension": ".py",
   "mimetype": "text/x-python",
   "name": "python",
   "nbconvert_exporter": "python",
   "pygments_lexer": "ipython3",
   "version": "3.10.13"
  }
 },
 "nbformat": 4,
 "nbformat_minor": 4
}
