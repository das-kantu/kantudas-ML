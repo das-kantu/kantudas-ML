{
 "cells": [
  {
   "cell_type": "markdown",
   "metadata": {
    "id": "HzP7aFEqEPEj"
   },
   "source": [
    "# Example 9: Merging Dictionaries\n",
    "# You can merge dictionaries using the update() method or the ** operator in Python 3.9+.\n",
    "\n",
    "# Example dictionaries"
   ]
  },
  {
   "cell_type": "code",
   "execution_count": 1,
   "metadata": {
    "executionInfo": {
     "elapsed": 612,
     "status": "ok",
     "timestamp": 1729883227024,
     "user": {
      "displayName": "kantu das",
      "userId": "10518665960888698289"
     },
     "user_tz": -360
    },
    "id": "pDNJ4GB2EScE"
   },
   "outputs": [],
   "source": [
    "# example of dictionaries:\n",
    "\n",
    "# dict1 = {\n",
    "\n",
    "#         'name': 'John',\n",
    "#         'age': 25\n",
    "\n",
    "#         }\n",
    "\n",
    "# dict2 =  {\n",
    "\n",
    "#         'city': 'New York',\n",
    "#         'country': 'USA'\n",
    "\n",
    "#         }\n"
   ]
  },
  {
   "cell_type": "code",
   "execution_count": 2,
   "metadata": {
    "executionInfo": {
     "elapsed": 401,
     "status": "ok",
     "timestamp": 1729883279531,
     "user": {
      "displayName": "kantu das",
      "userId": "10518665960888698289"
     },
     "user_tz": -360
    },
    "id": "LfaSczbaE1_U"
   },
   "outputs": [],
   "source": [
    "# merging using update:\n",
    "\n",
    "# dict1.update(dict2)"
   ]
  },
  {
   "cell_type": "code",
   "execution_count": 3,
   "metadata": {
    "colab": {
     "base_uri": "https://localhost:8080/"
    },
    "executionInfo": {
     "elapsed": 423,
     "status": "ok",
     "timestamp": 1729883338348,
     "user": {
      "displayName": "kantu das",
      "userId": "10518665960888698289"
     },
     "user_tz": -360
    },
    "id": "8g37xqGOFBXg",
    "outputId": "7811bfa0-2ce6-4f4c-91cf-4ecc72931b13"
   },
   "outputs": [
    {
     "name": "stdout",
     "output_type": "stream",
     "text": [
      "Merged Dictionary:  {'name': 'John', 'age': 25, 'city': 'New York', 'country': 'USA'}\n"
     ]
    }
   ],
   "source": [
    "# printing the merged dictionary:\n",
    "\n",
    "# print('Merged Dictionary: ', dict1)"
   ]
  },
  {
   "cell_type": "code",
   "execution_count": 14,
   "metadata": {
    "id": "0LEfCVbwFPJR"
   },
   "outputs": [],
   "source": [
    "\n",
    "# example of dictionaries:\n",
    "favourite_language_1= {\n",
    "\n",
    "\n",
    "                'jen': 'python',\n",
    "                'age' : 30,\n",
    "                \n",
    "}"
   ]
  },
  {
   "cell_type": "code",
   "execution_count": 15,
   "metadata": {},
   "outputs": [],
   "source": [
    "# example of dictionaries:\n",
    "favourite_town= {\n",
    "\n",
    "\n",
    "                \n",
    "                \n",
    "                'city': 'shanghai',\n",
    "                'country': 'China'\n",
    "}"
   ]
  },
  {
   "cell_type": "code",
   "execution_count": 16,
   "metadata": {},
   "outputs": [],
   "source": [
    "# merging using update:\n",
    "\n",
    "favourite_language_1.update(favourite_town)"
   ]
  },
  {
   "cell_type": "code",
   "execution_count": 17,
   "metadata": {},
   "outputs": [
    {
     "name": "stdout",
     "output_type": "stream",
     "text": [
      "Merged Dictionary:  {'jen': 'python', 'age': 30, 'city': 'shanghai', 'country': 'China'}\n"
     ]
    }
   ],
   "source": [
    "# printing the merged dictionary:\n",
    "print('Merged Dictionary: ', favourite_language_1)"
   ]
  },
  {
   "cell_type": "code",
   "execution_count": null,
   "metadata": {},
   "outputs": [],
   "source": []
  }
 ],
 "metadata": {
  "colab": {
   "authorship_tag": "ABX9TyO2/SCXfXzVGkAo9LXMl68l",
   "provenance": []
  },
  "kernelspec": {
   "display_name": "Python 3 (ipykernel)",
   "language": "python",
   "name": "python3"
  },
  "language_info": {
   "codemirror_mode": {
    "name": "ipython",
    "version": 3
   },
   "file_extension": ".py",
   "mimetype": "text/x-python",
   "name": "python",
   "nbconvert_exporter": "python",
   "pygments_lexer": "ipython3",
   "version": "3.10.13"
  }
 },
 "nbformat": 4,
 "nbformat_minor": 4
}
