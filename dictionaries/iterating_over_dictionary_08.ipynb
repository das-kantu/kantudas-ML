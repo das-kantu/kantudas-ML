{
 "cells": [
  {
   "cell_type": "markdown",
   "metadata": {
    "id": "kuPa3NM_CxvO"
   },
   "source": [
    "# Example 8: Iterating Over a Dictionary\n",
    "# You can iterate over a dictionary to access its keys, values, or key-value pairs."
   ]
  },
  {
   "cell_type": "code",
   "execution_count": 1,
   "metadata": {
    "executionInfo": {
     "elapsed": 421,
     "status": "ok",
     "timestamp": 1729882749166,
     "user": {
      "displayName": "kantu das",
      "userId": "10518665960888698289"
     },
     "user_tz": -360
    },
    "id": "MDTUzQWfCpck"
   },
   "outputs": [],
   "source": [
    "# Example dictionary\n",
    "# my_dict = {\n",
    "\n",
    "#         'name': 'John',\n",
    "#         'age': 25,\n",
    "#         'city': 'New York'\n",
    "\n",
    "#         }\n"
   ]
  },
  {
   "cell_type": "code",
   "execution_count": 3,
   "metadata": {
    "colab": {
     "base_uri": "https://localhost:8080/"
    },
    "executionInfo": {
     "elapsed": 425,
     "status": "ok",
     "timestamp": 1729882878090,
     "user": {
      "displayName": "kantu das",
      "userId": "10518665960888698289"
     },
     "user_tz": -360
    },
    "id": "OCc0zM6pC8wI",
    "outputId": "bdb3581e-295b-49c7-87e4-6292e89c88f3"
   },
   "outputs": [
    {
     "name": "stdout",
     "output_type": "stream",
     "text": [
      "Key:name, Value: John\n",
      "Key:age, Value: 25\n",
      "Key:city, Value: New York\n"
     ]
    }
   ],
   "source": [
    "# iterating over keys and values:\n",
    "\n",
    "# for key, value in my_dict.items():\n",
    "\n",
    "#     print(f'Key:{key}, Value: {value}')"
   ]
  },
  {
   "cell_type": "code",
   "execution_count": 1,
   "metadata": {
    "id": "9SCH-JbcDVZT"
   },
   "outputs": [],
   "source": [
    "# example of dictionary:\n",
    "\n",
    "favourite_language = {\n",
    "\n",
    "\n",
    "                'jen': 'python',\n",
    "                'age' : 25,\n",
    "                'city': 'New York'\n",
    "}"
   ]
  },
  {
   "cell_type": "code",
   "execution_count": 2,
   "metadata": {},
   "outputs": [
    {
     "name": "stdout",
     "output_type": "stream",
     "text": [
      "Key: jen, Value: python\n",
      "Key: age, Value: 25\n",
      "Key: city, Value: New York\n"
     ]
    }
   ],
   "source": [
    "# iterating over keys and values:\n",
    "\n",
    "for key, value in favourite_language.items():\n",
    "    print(f'Key: {key}, Value: {value}')\n",
    "    "
   ]
  },
  {
   "cell_type": "code",
   "execution_count": null,
   "metadata": {},
   "outputs": [],
   "source": []
  }
 ],
 "metadata": {
  "colab": {
   "authorship_tag": "ABX9TyONu2bGznVwuDh+dArPYrE8",
   "provenance": []
  },
  "kernelspec": {
   "display_name": "Python 3 (ipykernel)",
   "language": "python",
   "name": "python3"
  },
  "language_info": {
   "codemirror_mode": {
    "name": "ipython",
    "version": 3
   },
   "file_extension": ".py",
   "mimetype": "text/x-python",
   "name": "python",
   "nbconvert_exporter": "python",
   "pygments_lexer": "ipython3",
   "version": "3.10.13"
  }
 },
 "nbformat": 4,
 "nbformat_minor": 4
}
