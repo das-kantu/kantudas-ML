{
 "cells": [
  {
   "cell_type": "markdown",
   "metadata": {
    "id": "hIZ54lhc3h80"
   },
   "source": [
    "# Example 2: Accessing Dictionary Values\n",
    "# Values in a dictionary are accessed using their keys.\n",
    "# If a key is not found, a KeyError will be raised unless you use the get() method, which returns None."
   ]
  },
  {
   "cell_type": "code",
   "execution_count": null,
   "metadata": {
    "id": "LRfuPV1O3SOY"
   },
   "outputs": [],
   "source": [
    "# example of a dictionary:\n",
    "# my_dict = {\n",
    "#         'name': 'john',\n",
    "#         # 'age': 25,\n",
    "#         'city': 'New York'\n",
    "# }"
   ]
  },
  {
   "cell_type": "code",
   "execution_count": null,
   "metadata": {
    "id": "IG80IjnP38vX"
   },
   "outputs": [],
   "source": [
    "# accessing values using keys:\n",
    "\n",
    "# name = my_dict['name']\n",
    "# age = my_dict['age']"
   ]
  },
  {
   "cell_type": "code",
   "execution_count": null,
   "metadata": {
    "colab": {
     "base_uri": "https://localhost:8080/"
    },
    "executionInfo": {
     "elapsed": 416,
     "status": "ok",
     "timestamp": 1729880081586,
     "user": {
      "displayName": "kantu das",
      "userId": "10518665960888698289"
     },
     "user_tz": -360
    },
    "id": "SbuDqexU4OKR",
    "outputId": "868c2697-392d-4020-e9c9-05aba22e94c8"
   },
   "outputs": [
    {
     "name": "stdout",
     "output_type": "stream",
     "text": [
      "Name: john\n",
      "Age: 25\n"
     ]
    }
   ],
   "source": [
    "# printing access values:\n",
    "# print('Name:',name)\n",
    "# print('Age:', age)"
   ]
  },
  {
   "cell_type": "code",
   "execution_count": 1,
   "metadata": {
    "id": "fJS_BjAZ4dqI"
   },
   "outputs": [],
   "source": [
    "# example of dictionary:\n",
    "\n",
    "favourite_language = {\n",
    "\n",
    "\n",
    "                'jen': 'python',\n",
    "                'age' : 25,\n",
    "                'city': 'New York'\n",
    "}"
   ]
  },
  {
   "cell_type": "code",
   "execution_count": 5,
   "metadata": {},
   "outputs": [],
   "source": [
    "# accessing values using keys:\n",
    "\n",
    "name = favourite_language['jen']\n",
    "age = favourite_language['age']"
   ]
  },
  {
   "cell_type": "code",
   "execution_count": 8,
   "metadata": {},
   "outputs": [
    {
     "name": "stdout",
     "output_type": "stream",
     "text": [
      "Name: python\n",
      "Age: 25\n"
     ]
    }
   ],
   "source": [
    "# printing access values:\n",
    "print('Name:', name)\n",
    "print('Age:', age)"
   ]
  },
  {
   "cell_type": "code",
   "execution_count": null,
   "metadata": {},
   "outputs": [],
   "source": []
  }
 ],
 "metadata": {
  "colab": {
   "authorship_tag": "ABX9TyPaCkU8xIRzSjCJBPnkBa7u",
   "provenance": []
  },
  "kernelspec": {
   "display_name": "Python 3 (ipykernel)",
   "language": "python",
   "name": "python3"
  },
  "language_info": {
   "codemirror_mode": {
    "name": "ipython",
    "version": 3
   },
   "file_extension": ".py",
   "mimetype": "text/x-python",
   "name": "python",
   "nbconvert_exporter": "python",
   "pygments_lexer": "ipython3",
   "version": "3.10.13"
  }
 },
 "nbformat": 4,
 "nbformat_minor": 4
}
