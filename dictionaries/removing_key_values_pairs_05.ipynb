{
 "cells": [
  {
   "cell_type": "markdown",
   "metadata": {
    "id": "EdKx-eoDGoL1"
   },
   "source": [
    "# Example 5: Removing Key-Value Pairs from a Dictionary\n",
    "# You can remove key-value pairs using the pop() method, which removes the specified key and returns its value.\n",
    "# The del keyword can also be used to remove a specific key or clear() to remove all items.\n"
   ]
  },
  {
   "cell_type": "code",
   "execution_count": 1,
   "metadata": {
    "executionInfo": {
     "elapsed": 596,
     "status": "ok",
     "timestamp": 1729883794172,
     "user": {
      "displayName": "kantu das",
      "userId": "10518665960888698289"
     },
     "user_tz": -360
    },
    "id": "5bCtavQVGex-"
   },
   "outputs": [],
   "source": [
    "# example dictionary:\n",
    "\n",
    "# my_dict = {\n",
    "\n",
    "#       'name': 'John',\n",
    "#       'age': 25,\n",
    "#       'city': 'New York'\n",
    "\n",
    "#       }\n"
   ]
  },
  {
   "cell_type": "code",
   "execution_count": 2,
   "metadata": {
    "executionInfo": {
     "elapsed": 458,
     "status": "ok",
     "timestamp": 1729883804465,
     "user": {
      "displayName": "kantu das",
      "userId": "10518665960888698289"
     },
     "user_tz": -360
    },
    "id": "_6efcwFNG8J1"
   },
   "outputs": [],
   "source": [
    "# removing a key-value pair:\n",
    "\n",
    "# age = my_dict.pop('age')"
   ]
  },
  {
   "cell_type": "code",
   "execution_count": 3,
   "metadata": {
    "colab": {
     "base_uri": "https://localhost:8080/"
    },
    "executionInfo": {
     "elapsed": 462,
     "status": "ok",
     "timestamp": 1729883834458,
     "user": {
      "displayName": "kantu das",
      "userId": "10518665960888698289"
     },
     "user_tz": -360
    },
    "id": "D1UM4SiKHA7m",
    "outputId": "d957cef1-bef0-40fd-8877-0ce07edc36c7"
   },
   "outputs": [
    {
     "name": "stdout",
     "output_type": "stream",
     "text": [
      "Dictionary after Removal: {'name': 'John', 'city': 'New York'}\n",
      "Removed Age: 25\n"
     ]
    }
   ],
   "source": [
    "# printing the dictionary after removal\n",
    "# print('Dictionary after Removal:', my_dict)\n",
    "# print('Removed Age:', age)"
   ]
  },
  {
   "cell_type": "code",
   "execution_count": 9,
   "metadata": {},
   "outputs": [],
   "source": [
    "# example of dictionary:\n",
    "\n",
    "favourite_language = {\n",
    "\n",
    "\n",
    "                'jen': 'python',\n",
    "                'age' : 30,\n",
    "                'city': 'California'\n",
    "}"
   ]
  },
  {
   "cell_type": "code",
   "execution_count": 10,
   "metadata": {},
   "outputs": [],
   "source": [
    "# removing a key-value pair:\n",
    "\n",
    "city = favourite_language.pop('city')"
   ]
  },
  {
   "cell_type": "code",
   "execution_count": 11,
   "metadata": {},
   "outputs": [
    {
     "name": "stdout",
     "output_type": "stream",
     "text": [
      "Dictionary after Removal: {'jen': 'python', 'age': 30}\n",
      "Removed Age: California\n"
     ]
    }
   ],
   "source": [
    "# printing the dictionary after removal\n",
    "print('Dictionary after Removal:', favourite_language)\n",
    "print('Removed City:', city)"
   ]
  },
  {
   "cell_type": "code",
   "execution_count": null,
   "metadata": {},
   "outputs": [],
   "source": []
  },
  {
   "cell_type": "code",
   "execution_count": null,
   "metadata": {},
   "outputs": [],
   "source": []
  }
 ],
 "metadata": {
  "colab": {
   "authorship_tag": "ABX9TyMwqp5XqO0I8eLBT6pEoWpY",
   "provenance": []
  },
  "kernelspec": {
   "display_name": "Python 3 (ipykernel)",
   "language": "python",
   "name": "python3"
  },
  "language_info": {
   "codemirror_mode": {
    "name": "ipython",
    "version": 3
   },
   "file_extension": ".py",
   "mimetype": "text/x-python",
   "name": "python",
   "nbconvert_exporter": "python",
   "pygments_lexer": "ipython3",
   "version": "3.10.13"
  }
 },
 "nbformat": 4,
 "nbformat_minor": 4
}
