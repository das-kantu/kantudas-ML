{
 "cells": [
  {
   "cell_type": "markdown",
   "metadata": {
    "id": "pwrj4MUgFrQ8"
   },
   "source": [
    "# Example 3: Modifying Dictionary Values\n",
    "# Dictionaries are mutable, meaning their values can be changed by assigning a new value to a key.\n"
   ]
  },
  {
   "cell_type": "code",
   "execution_count": 1,
   "metadata": {
    "executionInfo": {
     "elapsed": 424,
     "status": "ok",
     "timestamp": 1729883514216,
     "user": {
      "displayName": "kantu das",
      "userId": "10518665960888698289"
     },
     "user_tz": -360
    },
    "id": "VTrWWybrFtls"
   },
   "outputs": [],
   "source": [
    "# example dictionary:\n",
    "\n",
    "# my_dict = {\n",
    "\n",
    "#         'name': 'John',\n",
    "#         'age': 25\n",
    "\n",
    "#         }"
   ]
  },
  {
   "cell_type": "code",
   "execution_count": 2,
   "metadata": {
    "executionInfo": {
     "elapsed": 419,
     "status": "ok",
     "timestamp": 1729883563443,
     "user": {
      "displayName": "kantu das",
      "userId": "10518665960888698289"
     },
     "user_tz": -360
    },
    "id": "prb__OiQF3sT"
   },
   "outputs": [],
   "source": [
    "# modyfying a value:\n",
    "\n",
    "# my_dict['age'] = 30"
   ]
  },
  {
   "cell_type": "code",
   "execution_count": 4,
   "metadata": {
    "colab": {
     "base_uri": "https://localhost:8080/"
    },
    "executionInfo": {
     "elapsed": 409,
     "status": "ok",
     "timestamp": 1729883629406,
     "user": {
      "displayName": "kantu das",
      "userId": "10518665960888698289"
     },
     "user_tz": -360
    },
    "id": "dEblcEquGGGK",
    "outputId": "e1f8a3ec-6c64-467b-8d91-f700f86b8008"
   },
   "outputs": [
    {
     "name": "stdout",
     "output_type": "stream",
     "text": [
      "Modified Dictionart:  {'name': 'John', 'age': 30}\n"
     ]
    }
   ],
   "source": [
    "# printing the modyfying dictionary:\n",
    "\n",
    "# print('Modified Dictionart: ', my_dict)"
   ]
  },
  {
   "cell_type": "code",
   "execution_count": 1,
   "metadata": {
    "id": "hlOlKo1pGPK6"
   },
   "outputs": [],
   "source": [
    "# example of dictionary:\n",
    "\n",
    "favourite_language = {\n",
    "\n",
    "\n",
    "                'jen': 'python',\n",
    "                'age' : 30,\n",
    "                \n",
    "}"
   ]
  },
  {
   "cell_type": "code",
   "execution_count": 2,
   "metadata": {},
   "outputs": [],
   "source": [
    "# modyfying a value:\n",
    "\n",
    "favourite_language['age'] = 28"
   ]
  },
  {
   "cell_type": "code",
   "execution_count": 4,
   "metadata": {},
   "outputs": [
    {
     "name": "stdout",
     "output_type": "stream",
     "text": [
      "Modified Dictionary: {'jen': 'python', 'age': 28}\n"
     ]
    }
   ],
   "source": [
    "# printing the modyfying dictionary:\n",
    "\n",
    "print('Modified Dictionary:', favourite_language)"
   ]
  },
  {
   "cell_type": "code",
   "execution_count": null,
   "metadata": {},
   "outputs": [],
   "source": []
  }
 ],
 "metadata": {
  "colab": {
   "authorship_tag": "ABX9TyNCo4DzyyUPS1JzWNm24BUQ",
   "provenance": []
  },
  "kernelspec": {
   "display_name": "Python 3 (ipykernel)",
   "language": "python",
   "name": "python3"
  },
  "language_info": {
   "codemirror_mode": {
    "name": "ipython",
    "version": 3
   },
   "file_extension": ".py",
   "mimetype": "text/x-python",
   "name": "python",
   "nbconvert_exporter": "python",
   "pygments_lexer": "ipython3",
   "version": "3.10.13"
  }
 },
 "nbformat": 4,
 "nbformat_minor": 4
}
