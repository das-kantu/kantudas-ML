{
 "cells": [
  {
   "cell_type": "markdown",
   "id": "16c6a6c4-56af-4d5f-916d-3d1607093a21",
   "metadata": {},
   "source": [
    "# Example 10: Set Length\n",
    "# The len() function is used to find the number of elements in a set.\n"
   ]
  },
  {
   "cell_type": "code",
   "execution_count": 1,
   "id": "172a162d-0bf8-483f-b0e3-1793c481ac80",
   "metadata": {},
   "outputs": [],
   "source": [
    "# example set:\n",
    "\n",
    "# my_set = {1, 2, 3, 4, 5}"
   ]
  },
  {
   "cell_type": "code",
   "execution_count": 2,
   "id": "f9205fdc-d8b1-4e4d-aaec-67212f497faa",
   "metadata": {},
   "outputs": [],
   "source": [
    "# getting the length of the set:\n",
    "\n",
    "# set_length = len(my_set)"
   ]
  },
  {
   "cell_type": "code",
   "execution_count": 4,
   "id": "28be2096-b6bd-41e7-9229-8c878d968396",
   "metadata": {},
   "outputs": [
    {
     "name": "stdout",
     "output_type": "stream",
     "text": [
      "Length of set: 5\n"
     ]
    }
   ],
   "source": [
    "# printing the length:\n",
    "# print('Length of set:',set_length)"
   ]
  },
  {
   "cell_type": "code",
   "execution_count": 1,
   "id": "c1b94142-46dd-41c0-b53d-9627eb808cf4",
   "metadata": {},
   "outputs": [],
   "source": [
    "# example of sets:\n",
    "pet_set= {'cat', 'dog', 'bird', 'goldfish','rabbit'}"
   ]
  },
  {
   "cell_type": "code",
   "execution_count": 2,
   "id": "861a5bad-592a-4703-a53e-82230daa6713",
   "metadata": {},
   "outputs": [],
   "source": [
    "# getting the length of the set:\n",
    "\n",
    "pet_set_length = len(pet_set)"
   ]
  },
  {
   "cell_type": "code",
   "execution_count": 3,
   "id": "4392fc80-6ff3-45f5-8b6b-a49c43b5574f",
   "metadata": {},
   "outputs": [
    {
     "name": "stdout",
     "output_type": "stream",
     "text": [
      "Length of set: 5\n"
     ]
    }
   ],
   "source": [
    "# printing the length:\n",
    "\n",
    "print('Length of set:', pet_set_length)"
   ]
  },
  {
   "cell_type": "code",
   "execution_count": null,
   "id": "9d0c75f1-42da-40b3-b1bd-a12828fa468f",
   "metadata": {},
   "outputs": [],
   "source": []
  }
 ],
 "metadata": {
  "kernelspec": {
   "display_name": "Python 3 (ipykernel)",
   "language": "python",
   "name": "python3"
  },
  "language_info": {
   "codemirror_mode": {
    "name": "ipython",
    "version": 3
   },
   "file_extension": ".py",
   "mimetype": "text/x-python",
   "name": "python",
   "nbconvert_exporter": "python",
   "pygments_lexer": "ipython3",
   "version": "3.10.13"
  }
 },
 "nbformat": 4,
 "nbformat_minor": 5
}
