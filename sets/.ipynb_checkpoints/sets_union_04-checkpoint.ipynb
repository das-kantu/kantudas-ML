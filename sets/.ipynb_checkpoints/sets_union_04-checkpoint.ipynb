{
 "cells": [
  {
   "cell_type": "markdown",
   "id": "40724791-e873-442e-8107-a2630b53366c",
   "metadata": {},
   "source": [
    "# Example 4: Set Union\n",
    "# The union() method returns a new set containing all unique elements from both sets.\n",
    "# You can also use the | operator to perform the union operation.\n"
   ]
  },
  {
   "cell_type": "code",
   "execution_count": 2,
   "id": "35422b3e-9fc1-4244-9e05-13b245c86cd3",
   "metadata": {},
   "outputs": [],
   "source": [
    "# example sets:\n",
    "\n",
    "# set_1 = {1, 2, 3}\n",
    "# set_2 = {2, 3, 4, 5}"
   ]
  },
  {
   "cell_type": "code",
   "execution_count": 3,
   "id": "382276e9-746b-4756-9110-6a446677acd9",
   "metadata": {},
   "outputs": [],
   "source": [
    "# performing union:\n",
    "# union_set = set_1.union(set_2)"
   ]
  },
  {
   "cell_type": "code",
   "execution_count": 5,
   "id": "eddeaef2-d335-452b-8dfc-e1ee9c827f51",
   "metadata": {},
   "outputs": [
    {
     "name": "stdout",
     "output_type": "stream",
     "text": [
      "Union of Sets: {1, 2, 3, 4, 5}\n"
     ]
    }
   ],
   "source": [
    "# printing the union set:\n",
    "\n",
    "# print('Union of Sets:', union_set)"
   ]
  },
  {
   "cell_type": "code",
   "execution_count": 5,
   "id": "5fff0035-63d7-4efd-beb1-7009b519ba79",
   "metadata": {},
   "outputs": [],
   "source": [
    "# example of sets:\n",
    "\n",
    "pet_set_1 = {'cat', 'dog', 'bird', 'rabbit'}\n",
    "\n",
    "pet_set_2 = {'dog', 'bird', 'goldfish'}"
   ]
  },
  {
   "cell_type": "code",
   "execution_count": 6,
   "id": "a48ae4e8-0a3c-4d94-9176-eb9b95d3bf66",
   "metadata": {},
   "outputs": [],
   "source": [
    "# performing union:\n",
    "\n",
    "union_set = pet_set_1.union(pet_set_2)"
   ]
  },
  {
   "cell_type": "code",
   "execution_count": 7,
   "id": "f7bcfb44-ede9-472f-bdf1-e95b0f9155e3",
   "metadata": {},
   "outputs": [
    {
     "name": "stdout",
     "output_type": "stream",
     "text": [
      "Union of Sets: {'cat', 'bird', 'goldfish', 'rabbit', 'dog'}\n"
     ]
    }
   ],
   "source": [
    "print('Union of Sets:', union_set)"
   ]
  },
  {
   "cell_type": "code",
   "execution_count": null,
   "id": "0688d9a8-e211-4f71-b77c-63f4a3f0ef9f",
   "metadata": {},
   "outputs": [],
   "source": []
  }
 ],
 "metadata": {
  "kernelspec": {
   "display_name": "Python 3 (ipykernel)",
   "language": "python",
   "name": "python3"
  },
  "language_info": {
   "codemirror_mode": {
    "name": "ipython",
    "version": 3
   },
   "file_extension": ".py",
   "mimetype": "text/x-python",
   "name": "python",
   "nbconvert_exporter": "python",
   "pygments_lexer": "ipython3",
   "version": "3.10.13"
  }
 },
 "nbformat": 4,
 "nbformat_minor": 5
}
