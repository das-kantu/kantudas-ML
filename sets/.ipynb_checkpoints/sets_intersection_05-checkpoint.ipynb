{
 "cells": [
  {
   "cell_type": "code",
   "execution_count": 1,
   "id": "3229466a-29e1-433a-91e9-5683b535c8db",
   "metadata": {},
   "outputs": [],
   "source": [
    "# Example 5: Set Intersection\n",
    "# The intersection() method returns a new set containing common elements from both sets.\n",
    "# You can also use the & operator to perform the intersection operation."
   ]
  },
  {
   "cell_type": "code",
   "execution_count": 2,
   "id": "d910c96e-8d5a-4911-a685-8ffd48c9ae21",
   "metadata": {},
   "outputs": [],
   "source": [
    "# example sets:\n",
    "\n",
    "# set_1 = {1, 2, 3}\n",
    "# set_2 = {2, 3, 4}"
   ]
  },
  {
   "cell_type": "code",
   "execution_count": 3,
   "id": "97182e8a-2d31-4604-95e5-27f6d709f196",
   "metadata": {},
   "outputs": [],
   "source": [
    "# performing intersection:\n",
    "\n",
    "# intersection_set = set_1.intersection(set_2)"
   ]
  },
  {
   "cell_type": "code",
   "execution_count": 4,
   "id": "adb0e92e-b429-4fbf-97c9-5f6f954e0a4b",
   "metadata": {},
   "outputs": [
    {
     "name": "stdout",
     "output_type": "stream",
     "text": [
      "Print Intersection of Sets: {'dog', 'bird'}\n"
     ]
    }
   ],
   "source": [
    "# printing the intersection set:\n",
    "\n",
    "print('Print Intersection of Sets:',intersection_set)"
   ]
  },
  {
   "cell_type": "code",
   "execution_count": 5,
   "id": "bf96ade7-b95a-4b93-b05d-3e838193612c",
   "metadata": {},
   "outputs": [],
   "source": [
    "# example of sets:\n",
    "\n",
    "pet_set_1 = {'cat', 'dog', 'bird'}\n",
    "\n",
    "pet_set_2 = {'dog', 'bird', 'goldfish'}"
   ]
  },
  {
   "cell_type": "code",
   "execution_count": 2,
   "id": "185bbb84-49b2-4861-96f1-47cfeefedec4",
   "metadata": {},
   "outputs": [],
   "source": [
    "# performing intersection:\n",
    "\n",
    "intersection_set = pet_set_1.intersection(pet_set_2)"
   ]
  },
  {
   "cell_type": "code",
   "execution_count": 6,
   "id": "da817b2e-e6d4-4629-834e-3949a328c16e",
   "metadata": {},
   "outputs": [
    {
     "name": "stdout",
     "output_type": "stream",
     "text": [
      "{'dog', 'bird'}\n"
     ]
    }
   ],
   "source": [
    "# printing the intersection set:\n",
    "print(intersection_set)"
   ]
  },
  {
   "cell_type": "code",
   "execution_count": null,
   "id": "817af11c-4c52-4383-ba05-76c6d03de75f",
   "metadata": {},
   "outputs": [],
   "source": []
  }
 ],
 "metadata": {
  "kernelspec": {
   "display_name": "Python 3 (ipykernel)",
   "language": "python",
   "name": "python3"
  },
  "language_info": {
   "codemirror_mode": {
    "name": "ipython",
    "version": 3
   },
   "file_extension": ".py",
   "mimetype": "text/x-python",
   "name": "python",
   "nbconvert_exporter": "python",
   "pygments_lexer": "ipython3",
   "version": "3.10.13"
  }
 },
 "nbformat": 4,
 "nbformat_minor": 5
}
