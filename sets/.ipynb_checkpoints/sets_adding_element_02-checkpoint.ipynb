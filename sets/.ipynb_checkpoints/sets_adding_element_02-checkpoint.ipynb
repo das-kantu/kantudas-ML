{
 "cells": [
  {
   "cell_type": "markdown",
   "id": "16e97662-3a00-4c82-8e2f-37b2dc36cf93",
   "metadata": {},
   "source": [
    "# Example 2: Adding Elements to a Set\n",
    "# You can add elements to a set using the add() method.\n",
    "# Sets do not allow duplicate elements.\n"
   ]
  },
  {
   "cell_type": "code",
   "execution_count": 1,
   "id": "0bc027ef-2fd4-47c6-b031-7b10bd888b1f",
   "metadata": {},
   "outputs": [],
   "source": [
    "# example of set:\n",
    "\n",
    "# my_set = {1, 2, 3}"
   ]
  },
  {
   "cell_type": "code",
   "execution_count": 2,
   "id": "0d65bee9-b9dd-409c-ade7-960629a2534e",
   "metadata": {},
   "outputs": [],
   "source": [
    "# adding a new element:\n",
    "\n",
    "# my_set.add(4)"
   ]
  },
  {
   "cell_type": "code",
   "execution_count": 3,
   "id": "6bac8b7d-80ef-42a8-9d6e-78988d742d26",
   "metadata": {},
   "outputs": [],
   "source": [
    "# trying to add a duplicate element:(this will have no effect)\n",
    "\n",
    "# my_set.add(2)\n",
    "\n"
   ]
  },
  {
   "cell_type": "code",
   "execution_count": 5,
   "id": "d53140fc-7ef6-4144-9fd0-f2c05d2b534b",
   "metadata": {},
   "outputs": [
    {
     "name": "stdout",
     "output_type": "stream",
     "text": [
      "Updated My Set: {1, 2, 3, 4}\n"
     ]
    }
   ],
   "source": [
    "# print(\"Updated My Set:\", my_set)"
   ]
  },
  {
   "cell_type": "code",
   "execution_count": 5,
   "id": "c1381de5-25db-45e5-b1b2-56f2fa4c07dc",
   "metadata": {},
   "outputs": [],
   "source": [
    "# creating a set with some elements:\n",
    "\n",
    "pets_set = {'dog', 'cat', 'rabbit', 'goldfish'}"
   ]
  },
  {
   "cell_type": "code",
   "execution_count": 6,
   "id": "6990221c-a526-405c-90ed-8fae120f9047",
   "metadata": {},
   "outputs": [],
   "source": [
    "# adding a new element :\n",
    "\n",
    "pets_set.add('bird')"
   ]
  },
  {
   "cell_type": "code",
   "execution_count": 7,
   "id": "30ed0b05-d2f7-47d9-8256-0895f6b29cff",
   "metadata": {},
   "outputs": [],
   "source": [
    "# trying to add a duplicate elements:(this will have no effect)\n",
    "\n",
    "pets_set.add('rabbit')"
   ]
  },
  {
   "cell_type": "code",
   "execution_count": 8,
   "id": "40a11cd3-def8-4041-8603-0712a72e9a26",
   "metadata": {},
   "outputs": [
    {
     "name": "stdout",
     "output_type": "stream",
     "text": [
      "Updated My Sets: {'bird', 'rabbit', 'cat', 'goldfish', 'dog'}\n"
     ]
    }
   ],
   "source": [
    "# updated my set:\n",
    "print('Updated My Sets:', pets_set)"
   ]
  },
  {
   "cell_type": "code",
   "execution_count": null,
   "id": "2684259d-eda4-445c-8d0a-9ae740c30fe0",
   "metadata": {},
   "outputs": [],
   "source": []
  }
 ],
 "metadata": {
  "kernelspec": {
   "display_name": "Python 3 (ipykernel)",
   "language": "python",
   "name": "python3"
  },
  "language_info": {
   "codemirror_mode": {
    "name": "ipython",
    "version": 3
   },
   "file_extension": ".py",
   "mimetype": "text/x-python",
   "name": "python",
   "nbconvert_exporter": "python",
   "pygments_lexer": "ipython3",
   "version": "3.10.13"
  }
 },
 "nbformat": 4,
 "nbformat_minor": 5
}
