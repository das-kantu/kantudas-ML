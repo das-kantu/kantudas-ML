{
 "cells": [
  {
   "cell_type": "markdown",
   "id": "c37cd2f0-9641-4ca0-9fad-443b5ad3673b",
   "metadata": {},
   "source": [
    "# Example 9: Iterating Over a Set\n",
    "# You can iterate over a set to access its elements.\n",
    "# Since sets are unordered, the elements may be returned in any order."
   ]
  },
  {
   "cell_type": "code",
   "execution_count": 1,
   "id": "41add457-80db-47b8-bf45-f4f832d2479b",
   "metadata": {},
   "outputs": [],
   "source": [
    "# example set:\n",
    "\n",
    "# my_set = {1, 2, 3, 4}"
   ]
  },
  {
   "cell_type": "code",
   "execution_count": 5,
   "id": "432df288-29a2-49d3-b011-35aa32e7b8a8",
   "metadata": {},
   "outputs": [
    {
     "name": "stdout",
     "output_type": "stream",
     "text": [
      "Element: 1\n",
      "Element: 2\n",
      "Element: 3\n",
      "Element: 4\n"
     ]
    }
   ],
   "source": [
    "# iterating over the set:\n",
    "\n",
    "# for element in my_set:\n",
    "    # print('Element:', element)"
   ]
  },
  {
   "cell_type": "code",
   "execution_count": 1,
   "id": "f0ec1eec-e80f-4a95-9405-5e258fde12f8",
   "metadata": {},
   "outputs": [],
   "source": [
    "# example of sets:\n",
    "\n",
    "pet_set= {'cat', 'dog', 'bird', 'goldfish','rabbit'}\n",
    "\n"
   ]
  },
  {
   "cell_type": "code",
   "execution_count": 2,
   "id": "e2337e77-872a-4de8-a1dd-54ca5156765c",
   "metadata": {},
   "outputs": [
    {
     "name": "stdout",
     "output_type": "stream",
     "text": [
      "Element:  goldfish\n",
      "Element:  cat\n",
      "Element:  bird\n",
      "Element:  rabbit\n",
      "Element:  dog\n"
     ]
    }
   ],
   "source": [
    "# iterating over the set:\n",
    "\n",
    "for element in pet_set:\n",
    "    print('Element: ', element)"
   ]
  },
  {
   "cell_type": "code",
   "execution_count": null,
   "id": "407803ca-3038-43e9-8d7e-dc13dc4beb91",
   "metadata": {},
   "outputs": [],
   "source": []
  }
 ],
 "metadata": {
  "kernelspec": {
   "display_name": "Python 3 (ipykernel)",
   "language": "python",
   "name": "python3"
  },
  "language_info": {
   "codemirror_mode": {
    "name": "ipython",
    "version": 3
   },
   "file_extension": ".py",
   "mimetype": "text/x-python",
   "name": "python",
   "nbconvert_exporter": "python",
   "pygments_lexer": "ipython3",
   "version": "3.10.13"
  }
 },
 "nbformat": 4,
 "nbformat_minor": 5
}
