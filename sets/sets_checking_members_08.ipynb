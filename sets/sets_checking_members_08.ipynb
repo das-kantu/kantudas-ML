{
 "cells": [
  {
   "cell_type": "markdown",
   "id": "d70fa8d0-78bb-42a1-8218-70290346e2de",
   "metadata": {},
   "source": [
    "# Example 8: Checking Membership in a Set\n",
    "# You can use the 'in' keyword to check if an element exists in a set.\n"
   ]
  },
  {
   "cell_type": "code",
   "execution_count": 1,
   "id": "4d5a318d-6539-4332-8d89-6955315dc2d1",
   "metadata": {},
   "outputs": [],
   "source": [
    "# example set:\n",
    "\n",
    "# my_set = {1, 2, 3}"
   ]
  },
  {
   "cell_type": "code",
   "execution_count": 2,
   "id": "97b08c44-e91d-4541-b9b7-679ea47c1e14",
   "metadata": {},
   "outputs": [
    {
     "name": "stdout",
     "output_type": "stream",
     "text": [
      "2 is in the set\n"
     ]
    }
   ],
   "source": [
    "# checking for membership:\n",
    "\n",
    "# if 2 in my_set:\n",
    "    # print('2 is in the set')\n",
    "# else:\n",
    "    # print('2 is not in the set')"
   ]
  },
  {
   "cell_type": "code",
   "execution_count": 4,
   "id": "6d90305f-da1d-456f-b003-c0a7a87bd9ce",
   "metadata": {},
   "outputs": [],
   "source": [
    "# creating a set with some elements:\n",
    "\n",
    "pets_set = {'dog', 'cat', 'rabbit', 'goldfish', 1, 2, 3, 4}"
   ]
  },
  {
   "cell_type": "code",
   "execution_count": 5,
   "id": "073d141a-a548-4adc-b8ac-6428523a2c10",
   "metadata": {},
   "outputs": [
    {
     "name": "stdout",
     "output_type": "stream",
     "text": [
      "Dog is in the set\n"
     ]
    }
   ],
   "source": [
    "# checking for membership:\n",
    "\n",
    "if 'dog' in pets_set:\n",
    "    print('Dog is in the set')\n",
    "else:\n",
    "    print('Dog is not in the set')"
   ]
  },
  {
   "cell_type": "code",
   "execution_count": null,
   "id": "ba9fdbb9-85a8-439d-a214-9b78502d44d3",
   "metadata": {},
   "outputs": [],
   "source": []
  }
 ],
 "metadata": {
  "kernelspec": {
   "display_name": "Python 3 (ipykernel)",
   "language": "python",
   "name": "python3"
  },
  "language_info": {
   "codemirror_mode": {
    "name": "ipython",
    "version": 3
   },
   "file_extension": ".py",
   "mimetype": "text/x-python",
   "name": "python",
   "nbconvert_exporter": "python",
   "pygments_lexer": "ipython3",
   "version": "3.10.13"
  }
 },
 "nbformat": 4,
 "nbformat_minor": 5
}
