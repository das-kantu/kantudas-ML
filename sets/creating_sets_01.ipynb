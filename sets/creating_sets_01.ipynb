{
 "cells": [
  {
   "cell_type": "code",
   "execution_count": 1,
   "id": "735f0763-ef54-461c-9932-7fa456932354",
   "metadata": {},
   "outputs": [],
   "source": [
    "# Example 1: Creating a Set\n",
    "# A set is a collection of unique elements, created using curly braces {} or the set() function.\n",
    "# Sets are unordered, meaning that their elements do not have a specific order.\n"
   ]
  },
  {
   "cell_type": "code",
   "execution_count": 2,
   "id": "3714ed5f-b5b9-4b16-8547-6e40cc71bb78",
   "metadata": {},
   "outputs": [],
   "source": [
    "# creating a set with some elements:\n",
    "\n",
    "# my_set = {1, 2, 3, 'Hello', 4}"
   ]
  },
  {
   "cell_type": "code",
   "execution_count": 4,
   "id": "c63ce04a-a2b6-487b-8c66-a804949bc352",
   "metadata": {},
   "outputs": [
    {
     "name": "stdout",
     "output_type": "stream",
     "text": [
      "Created Set: {1, 2, 3, 4, 'Hello'}\n"
     ]
    }
   ],
   "source": [
    "# printing the created set:\n",
    "\n",
    "# print('Created Set:', my_set)"
   ]
  },
  {
   "cell_type": "code",
   "execution_count": 1,
   "id": "43265f5f-5066-480b-ab6b-f37e2b72cb9a",
   "metadata": {},
   "outputs": [],
   "source": [
    "# creating a set with some elements:\n",
    "\n",
    "pets = {'dog', 'cat', 'rabbit', 'goldfish', 1, 2, 3, 4}"
   ]
  },
  {
   "cell_type": "code",
   "execution_count": 3,
   "id": "44158a28-807b-44b9-9248-007c29873332",
   "metadata": {},
   "outputs": [
    {
     "name": "stdout",
     "output_type": "stream",
     "text": [
      "Created Set: {1, 2, 3, 4, 'cat', 'dog', 'goldfish', 'rabbit'}\n"
     ]
    }
   ],
   "source": [
    "# printing the created set:\n",
    "\n",
    "print('Created Set:', pets)"
   ]
  },
  {
   "cell_type": "code",
   "execution_count": null,
   "id": "88ce1bfa-93a0-4f84-aa99-3c0a556879f1",
   "metadata": {},
   "outputs": [],
   "source": []
  }
 ],
 "metadata": {
  "kernelspec": {
   "display_name": "Python 3 (ipykernel)",
   "language": "python",
   "name": "python3"
  },
  "language_info": {
   "codemirror_mode": {
    "name": "ipython",
    "version": 3
   },
   "file_extension": ".py",
   "mimetype": "text/x-python",
   "name": "python",
   "nbconvert_exporter": "python",
   "pygments_lexer": "ipython3",
   "version": "3.10.13"
  }
 },
 "nbformat": 4,
 "nbformat_minor": 5
}
