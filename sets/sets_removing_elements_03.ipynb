{
 "cells": [
  {
   "cell_type": "markdown",
   "id": "376289da-602f-487a-80f5-05bc5187bed1",
   "metadata": {},
   "source": [
    "# Example 3: Removing Elements from a Set\n",
    "# You can remove elements using the remove() or discard() methods.\n",
    "# The remove() method raises an error if the element is not found, while discard() does not."
   ]
  },
  {
   "cell_type": "code",
   "execution_count": 1,
   "id": "e9794e9b-e47a-4c56-9661-c2a58554b2e0",
   "metadata": {},
   "outputs": [],
   "source": [
    "# example set:\n",
    "\n",
    "# my_set = {1, 2, 3, 4}"
   ]
  },
  {
   "cell_type": "code",
   "execution_count": 2,
   "id": "c982e6af-5e52-4f91-914d-edc03074e953",
   "metadata": {},
   "outputs": [],
   "source": [
    "# removing an element:\n",
    "\n",
    "# my_set.remove(2)"
   ]
  },
  {
   "cell_type": "code",
   "execution_count": 3,
   "id": "93913fc6-fdf3-483d-9e37-9825114f27e6",
   "metadata": {},
   "outputs": [],
   "source": [
    "# discarding an element (no error if element not found)\n",
    "# my_set.discard(5)"
   ]
  },
  {
   "cell_type": "code",
   "execution_count": 4,
   "id": "976b2da7-4baf-4809-8864-20f7cd6ab8bd",
   "metadata": {},
   "outputs": [
    {
     "name": "stdout",
     "output_type": "stream",
     "text": [
      "{1, 3, 4}\n"
     ]
    }
   ],
   "source": [
    "# printing the set after removal:\n",
    "\n",
    "# print(my_set)"
   ]
  },
  {
   "cell_type": "code",
   "execution_count": 10,
   "id": "274b1cc7-80d3-40d6-800d-54530149da81",
   "metadata": {},
   "outputs": [],
   "source": [
    "# example of sets:\n",
    "pet_set= {'cat', 'dog', 'bird', 'goldfish','rabbit'}"
   ]
  },
  {
   "cell_type": "code",
   "execution_count": 11,
   "id": "35f8c826-d3b6-40a7-a43a-9ce04ab9d21d",
   "metadata": {},
   "outputs": [],
   "source": [
    "# removing an element:\n",
    "\n",
    "pet_set.remove('dog')"
   ]
  },
  {
   "cell_type": "code",
   "execution_count": 12,
   "id": "d82c3078-e2c8-4cd3-bfd8-c645afb8d9cf",
   "metadata": {},
   "outputs": [],
   "source": [
    "# discarding an element (no error if element not found):\n",
    "\n",
    "pet_set.discard('elephant')"
   ]
  },
  {
   "cell_type": "code",
   "execution_count": 13,
   "id": "dc8b905b-5243-4c98-b1fb-2fa69c2bf259",
   "metadata": {},
   "outputs": [
    {
     "name": "stdout",
     "output_type": "stream",
     "text": [
      "{'cat', 'goldfish', 'bird', 'rabbit'}\n"
     ]
    }
   ],
   "source": [
    "print(pet_set)"
   ]
  },
  {
   "cell_type": "code",
   "execution_count": null,
   "id": "c9f81cf7-2bdb-44c2-ab68-26f41a7db864",
   "metadata": {},
   "outputs": [],
   "source": []
  }
 ],
 "metadata": {
  "kernelspec": {
   "display_name": "Python 3 (ipykernel)",
   "language": "python",
   "name": "python3"
  },
  "language_info": {
   "codemirror_mode": {
    "name": "ipython",
    "version": 3
   },
   "file_extension": ".py",
   "mimetype": "text/x-python",
   "name": "python",
   "nbconvert_exporter": "python",
   "pygments_lexer": "ipython3",
   "version": "3.10.13"
  }
 },
 "nbformat": 4,
 "nbformat_minor": 5
}
