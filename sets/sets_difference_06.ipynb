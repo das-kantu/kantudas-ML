{
 "cells": [
  {
   "cell_type": "markdown",
   "id": "e043a06b-b7c7-450c-a3ea-6208f38f7052",
   "metadata": {},
   "source": [
    "# Example 6: Set Difference\n",
    "# The difference() method returns a new set containing elements present in one set but not in the other.\n",
    "# You can also use the - operator to perform the difference operation.\n"
   ]
  },
  {
   "cell_type": "code",
   "execution_count": 1,
   "id": "0ee5ca5f-61ab-4955-884c-0b02560e1dc5",
   "metadata": {},
   "outputs": [],
   "source": [
    "# example sets:\n",
    "\n",
    "# set_1 = {1, 2, 3}\n",
    "# set_2 = {2, 3, 4}"
   ]
  },
  {
   "cell_type": "code",
   "execution_count": 2,
   "id": "57125587-8558-4edb-a991-cee77b8544bb",
   "metadata": {},
   "outputs": [],
   "source": [
    "# performing difference (elements in set_1 but not in set_2):\n",
    "\n",
    "# difference_set = set_1.difference(set_2)"
   ]
  },
  {
   "cell_type": "code",
   "execution_count": 3,
   "id": "2e55f6db-8a34-43db-8c65-50512c72d9d1",
   "metadata": {},
   "outputs": [
    {
     "name": "stdout",
     "output_type": "stream",
     "text": [
      "{1}\n"
     ]
    }
   ],
   "source": [
    "# printing the difference set:\n",
    "# print(difference_set)"
   ]
  },
  {
   "cell_type": "code",
   "execution_count": 1,
   "id": "7397cb7e-86f0-46c6-9640-93d356305cd2",
   "metadata": {},
   "outputs": [],
   "source": [
    "# example of sets:\n",
    "\n",
    "pet_set_1 = {'cat', 'dog', 'bird'}\n",
    "\n",
    "pet_set_2 = {'dog', 'bird', 'goldfish'}"
   ]
  },
  {
   "cell_type": "code",
   "execution_count": 2,
   "id": "1d028fcd-ec21-4e1d-9cb0-cd758cf69f8d",
   "metadata": {},
   "outputs": [],
   "source": [
    "# performing difference (elements in set_1 but not in set_2):\n",
    "\n",
    "difference_set = pet_set_1.difference(pet_set_2)"
   ]
  },
  {
   "cell_type": "code",
   "execution_count": 3,
   "id": "9419fc09-a573-47dc-aa26-286d57703601",
   "metadata": {},
   "outputs": [
    {
     "name": "stdout",
     "output_type": "stream",
     "text": [
      "{'cat'}\n"
     ]
    }
   ],
   "source": [
    "# printing the difference set:\n",
    "\n",
    "print(difference_set)"
   ]
  },
  {
   "cell_type": "code",
   "execution_count": null,
   "id": "a03e4869-2dc5-4949-9ad3-f375b42e82da",
   "metadata": {},
   "outputs": [],
   "source": []
  }
 ],
 "metadata": {
  "kernelspec": {
   "display_name": "Python 3 (ipykernel)",
   "language": "python",
   "name": "python3"
  },
  "language_info": {
   "codemirror_mode": {
    "name": "ipython",
    "version": 3
   },
   "file_extension": ".py",
   "mimetype": "text/x-python",
   "name": "python",
   "nbconvert_exporter": "python",
   "pygments_lexer": "ipython3",
   "version": "3.10.13"
  }
 },
 "nbformat": 4,
 "nbformat_minor": 5
}
