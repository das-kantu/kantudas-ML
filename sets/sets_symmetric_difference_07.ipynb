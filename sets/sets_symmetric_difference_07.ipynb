{
 "cells": [
  {
   "cell_type": "markdown",
   "id": "af269ef4-86b1-4c35-ba0a-916e037591e3",
   "metadata": {},
   "source": [
    "# Example 7: Set Symmetric Difference\n",
    "# The symmetric_difference() method returns a new set containing elements present in either set but not in both.\n",
    "# You can also use the ^ operator to perform the symmetric difference operation.\n"
   ]
  },
  {
   "cell_type": "code",
   "execution_count": 1,
   "id": "bfeb640b-ab6f-4598-a512-052e1b832999",
   "metadata": {},
   "outputs": [],
   "source": [
    "# example sets:\n",
    "\n",
    "# set_1 = {1, 2, 3}\n",
    "# set_2 = {2, 3, 4}"
   ]
  },
  {
   "cell_type": "code",
   "execution_count": 2,
   "id": "36d33fd3-0cbe-4547-b131-a7a095ce3644",
   "metadata": {},
   "outputs": [],
   "source": [
    "# performing symmetric difference:\n",
    "\n",
    "symmetric_difference_set = set_1.symmetric_difference(set_2)"
   ]
  },
  {
   "cell_type": "code",
   "execution_count": 4,
   "id": "e0f56f08-2980-46e3-92cb-a5373f313494",
   "metadata": {},
   "outputs": [
    {
     "name": "stdout",
     "output_type": "stream",
     "text": [
      "Symmetric Difference of Sets: {1, 4}\n"
     ]
    }
   ],
   "source": [
    "print('Symmetric Difference of Sets:', symmetric_difference_set)"
   ]
  },
  {
   "cell_type": "code",
   "execution_count": 1,
   "id": "93b3c14f-4008-4bfd-a43c-be51af43892e",
   "metadata": {},
   "outputs": [],
   "source": [
    "# example of sets:\n",
    "\n",
    "pet_set_1 = {'cat', 'dog', 'bird'}\n",
    "\n",
    "pet_set_2 = {'dog', 'bird', 'goldfish'}"
   ]
  },
  {
   "cell_type": "code",
   "execution_count": 4,
   "id": "69044635-6722-4d34-97a0-0100f8fe8e54",
   "metadata": {},
   "outputs": [],
   "source": [
    "# performing symmetric difference:\n",
    "\n",
    "symmetric_difference_set = pet_set_1.symmetric_difference(pet_set_2)"
   ]
  },
  {
   "cell_type": "code",
   "execution_count": 6,
   "id": "71f69033-1b20-41bf-883f-7f9c59cdbb2e",
   "metadata": {},
   "outputs": [
    {
     "name": "stdout",
     "output_type": "stream",
     "text": [
      "Symmetric Difference of Sets: {'cat', 'goldfish'}\n"
     ]
    }
   ],
   "source": [
    "print('Symmetric Difference of Sets:', symmetric_difference_set)"
   ]
  },
  {
   "cell_type": "code",
   "execution_count": null,
   "id": "edda440e-b999-4fbd-8508-620d5bac3cea",
   "metadata": {},
   "outputs": [],
   "source": []
  }
 ],
 "metadata": {
  "kernelspec": {
   "display_name": "Python 3 (ipykernel)",
   "language": "python",
   "name": "python3"
  },
  "language_info": {
   "codemirror_mode": {
    "name": "ipython",
    "version": 3
   },
   "file_extension": ".py",
   "mimetype": "text/x-python",
   "name": "python",
   "nbconvert_exporter": "python",
   "pygments_lexer": "ipython3",
   "version": "3.10.13"
  }
 },
 "nbformat": 4,
 "nbformat_minor": 5
}
