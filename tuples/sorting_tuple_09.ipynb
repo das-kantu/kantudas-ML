{
 "cells": [
  {
   "cell_type": "markdown",
   "id": "e0043214-7743-4cc7-a68f-7a11047efe97",
   "metadata": {},
   "source": [
    "# Example 9: Sorting a Tuple\n",
    "# Tuples are immutable and cannot be sorted directly.\n",
    "# To sort a tuple, you need to convert it to a list, sort it, and convert it back to a tuple.\n"
   ]
  },
  {
   "cell_type": "code",
   "execution_count": 1,
   "id": "9672846c-ce3e-4b28-a0bc-7a9ae1b49fad",
   "metadata": {},
   "outputs": [],
   "source": [
    "# exaple tuple:\n",
    "\n",
    "# number_tuple = (5, 2, 9, 1, 5, 6)"
   ]
  },
  {
   "cell_type": "code",
   "execution_count": 4,
   "id": "6a6f7c6b-1637-47a7-a9c8-42892483c361",
   "metadata": {},
   "outputs": [],
   "source": [
    "# sorting by converting to a list:\n",
    "\n",
    "sorted_list = sorted(number_tuple)\n",
    "\n",
    "sorted_tuple = tuple(sorted_list)"
   ]
  },
  {
   "cell_type": "code",
   "execution_count": 5,
   "id": "368e7963-b5b9-4045-ab91-72c11cc4d943",
   "metadata": {},
   "outputs": [
    {
     "name": "stdout",
     "output_type": "stream",
     "text": [
      "(1, 2, 5, 5, 6, 9)\n"
     ]
    }
   ],
   "source": [
    "print('Sorted Tuple'sorted_tuple)"
   ]
  },
  {
   "cell_type": "code",
   "execution_count": 6,
   "id": "d17c711e-d273-449a-8138-69543912f336",
   "metadata": {},
   "outputs": [],
   "source": [
    "# example of tuples:\n",
    "mixed_tuple = ('green', 'red', 'white', 'balck', 'blue')"
   ]
  },
  {
   "cell_type": "code",
   "execution_count": 7,
   "id": "cdd015a7-d6b8-494d-a1af-93b28be884ef",
   "metadata": {},
   "outputs": [],
   "source": [
    "# sorting by converting to a list:\n",
    "\n",
    "sorted_list = sorted(mixed_tuple)\n",
    "\n",
    "sorted_tuple = tuple(sorted_list)"
   ]
  },
  {
   "cell_type": "code",
   "execution_count": 9,
   "id": "957023bc-49c0-4adb-9b31-838be4e4fbb6",
   "metadata": {},
   "outputs": [
    {
     "name": "stdout",
     "output_type": "stream",
     "text": [
      "Sorted Tuple:  ('balck', 'blue', 'green', 'red', 'white')\n"
     ]
    }
   ],
   "source": [
    "print('Sorted Tuple: ', sorted_tuple)"
   ]
  },
  {
   "cell_type": "code",
   "execution_count": null,
   "id": "f335584d-0a91-45dd-9a18-5d0410903656",
   "metadata": {},
   "outputs": [],
   "source": []
  }
 ],
 "metadata": {
  "kernelspec": {
   "display_name": "Python 3 (ipykernel)",
   "language": "python",
   "name": "python3"
  },
  "language_info": {
   "codemirror_mode": {
    "name": "ipython",
    "version": 3
   },
   "file_extension": ".py",
   "mimetype": "text/x-python",
   "name": "python",
   "nbconvert_exporter": "python",
   "pygments_lexer": "ipython3",
   "version": "3.10.13"
  }
 },
 "nbformat": 4,
 "nbformat_minor": 5
}
