{
 "cells": [
  {
   "cell_type": "markdown",
   "id": "49492e2a-ad6c-4861-b45e-53fb2f940924",
   "metadata": {},
   "source": [
    "# Example 10: Tuple Length\n",
    "# The len() function is used to find the number of elements in a tuple.\n"
   ]
  },
  {
   "cell_type": "code",
   "execution_count": 1,
   "id": "859dd004-e088-43d4-9dfd-bc3d8150dc59",
   "metadata": {},
   "outputs": [],
   "source": [
    "# exaple tuple:\n",
    "\n",
    "# my_tuple = (1, 2, 3, 4, 5)"
   ]
  },
  {
   "cell_type": "code",
   "execution_count": 2,
   "id": "250b759e-df7e-4806-9f17-ce58fd09916c",
   "metadata": {},
   "outputs": [],
   "source": [
    "# getting the length of the tuple:\n",
    "\n",
    "# tuple_length = len(my_tuple)"
   ]
  },
  {
   "cell_type": "code",
   "execution_count": 5,
   "id": "fa3d7023-e302-49fc-be0b-aaa691567abb",
   "metadata": {},
   "outputs": [],
   "source": [
    "# print('Length OF Tuple:',tuple_length)"
   ]
  },
  {
   "cell_type": "code",
   "execution_count": 1,
   "id": "818e9c61-09c3-45af-b9fa-6936f45890c4",
   "metadata": {},
   "outputs": [],
   "source": [
    "# example of tuples:\n",
    "mixed_tuple = ('green', 'red', 'white', 'balck', (1, 2), 'hello')"
   ]
  },
  {
   "cell_type": "code",
   "execution_count": 2,
   "id": "905530d3-389a-4315-b28f-3d7f7d030d4a",
   "metadata": {},
   "outputs": [],
   "source": [
    "# getting the length of the tuple:\n",
    "\n",
    "tuple_length = len(mixed_tuple)"
   ]
  },
  {
   "cell_type": "code",
   "execution_count": 4,
   "id": "60be1339-65fc-403d-9bf8-11695eebf1b8",
   "metadata": {},
   "outputs": [
    {
     "name": "stdout",
     "output_type": "stream",
     "text": [
      "Length Of Tuple:  6\n"
     ]
    }
   ],
   "source": [
    "print('Length Of Tuple: ', tuple_length)"
   ]
  },
  {
   "cell_type": "code",
   "execution_count": null,
   "id": "7451c551-dfe4-4615-b1e0-e9ed08cf2760",
   "metadata": {},
   "outputs": [],
   "source": []
  }
 ],
 "metadata": {
  "kernelspec": {
   "display_name": "Python 3 (ipykernel)",
   "language": "python",
   "name": "python3"
  },
  "language_info": {
   "codemirror_mode": {
    "name": "ipython",
    "version": 3
   },
   "file_extension": ".py",
   "mimetype": "text/x-python",
   "name": "python",
   "nbconvert_exporter": "python",
   "pygments_lexer": "ipython3",
   "version": "3.10.13"
  }
 },
 "nbformat": 4,
 "nbformat_minor": 5
}
