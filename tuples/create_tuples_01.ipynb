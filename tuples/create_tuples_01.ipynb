{
 "cells": [
  {
   "cell_type": "markdown",
   "id": "58c3a29f-e536-43f3-9be2-80adb3acb9ee",
   "metadata": {},
   "source": [
    "# Example 1: Creating a Tuple\n",
    "# A tuple is a collection of items, similar to a list, but it is immutable (cannot be changed).\n",
    "# Tuples are created using parentheses ().\n"
   ]
  },
  {
   "cell_type": "code",
   "execution_count": 1,
   "id": "35e4794f-ee9b-4c63-90a6-b61609b119e8",
   "metadata": {},
   "outputs": [],
   "source": [
    "# creating a tuples with various data types:\n",
    "\n",
    "# my_tuple = (1, 2, 3, 'hello', (4, 5))"
   ]
  },
  {
   "cell_type": "code",
   "execution_count": 3,
   "id": "48e9ac0e-9c96-48a7-a041-c68b72f28d34",
   "metadata": {},
   "outputs": [
    {
     "name": "stdout",
     "output_type": "stream",
     "text": [
      "Created Tuple: (1, 2, 3, 'hello', (4, 5))\n"
     ]
    }
   ],
   "source": [
    "# printing the created tuple:\n",
    "\n",
    "# print('Created Tuple:', my_tuple)"
   ]
  },
  {
   "cell_type": "code",
   "execution_count": 1,
   "id": "2547546c-578c-4757-afc8-b3a81366447e",
   "metadata": {},
   "outputs": [],
   "source": [
    "# creating a tuples with various data types:\n",
    "\n",
    "mixed_tuple = ('green', 'red', 'white', 'balck', (1, 2), 'hello')"
   ]
  },
  {
   "cell_type": "code",
   "execution_count": 2,
   "id": "76be27eb-96e0-45b9-b858-bab58a09cedc",
   "metadata": {},
   "outputs": [
    {
     "name": "stdout",
     "output_type": "stream",
     "text": [
      "Created Tuple:  ('green', 'red', 'white', 'balck', (1, 2), 'hello')\n"
     ]
    }
   ],
   "source": [
    "# printing the created tuple:\n",
    "\n",
    "print('Created Tuple: ', mixed_tuple)"
   ]
  },
  {
   "cell_type": "code",
   "execution_count": null,
   "id": "a8d61c21-0d7f-494a-9bd8-0c1d83942b2f",
   "metadata": {},
   "outputs": [],
   "source": []
  }
 ],
 "metadata": {
  "kernelspec": {
   "display_name": "Python 3 (ipykernel)",
   "language": "python",
   "name": "python3"
  },
  "language_info": {
   "codemirror_mode": {
    "name": "ipython",
    "version": 3
   },
   "file_extension": ".py",
   "mimetype": "text/x-python",
   "name": "python",
   "nbconvert_exporter": "python",
   "pygments_lexer": "ipython3",
   "version": "3.10.13"
  }
 },
 "nbformat": 4,
 "nbformat_minor": 5
}
