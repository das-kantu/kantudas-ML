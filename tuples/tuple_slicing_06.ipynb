{
 "cells": [
  {
   "cell_type": "markdown",
   "id": "ba6a03e6-c71b-4f3c-81c7-cedca8b3a370",
   "metadata": {},
   "source": [
    "# Example 6: Tuple Slicing\n",
    "# Slicing allows you to extract a part of the tuple.\n",
    "# It is done using a colon (:) to specify start, stop, and step indices."
   ]
  },
  {
   "cell_type": "code",
   "execution_count": 1,
   "id": "75ca75d6-2384-4f33-abbf-6b3f640c8447",
   "metadata": {},
   "outputs": [],
   "source": [
    "# example tuple:\n",
    "\n",
    "# my_tuple = (10, 20, 30, 40, 50)"
   ]
  },
  {
   "cell_type": "code",
   "execution_count": 2,
   "id": "4e7c6e18-dfac-406d-9020-5b227a28b0db",
   "metadata": {},
   "outputs": [],
   "source": [
    "# slicing the tuple from index 1 to 4:\n",
    "\n",
    "# sliced_tuple = my_tuple[1:4]\n"
   ]
  },
  {
   "cell_type": "code",
   "execution_count": 5,
   "id": "fc6bd810-840c-48f2-b5c5-16d8d3c8b584",
   "metadata": {},
   "outputs": [],
   "source": [
    "# printing the sliced tuple:\n",
    "\n",
    "# print('Sliced Tuple:',sliced_tuple)"
   ]
  },
  {
   "cell_type": "code",
   "execution_count": 1,
   "id": "ed27f457-1609-4708-ba5e-22b1b804d2bd",
   "metadata": {},
   "outputs": [],
   "source": [
    "# example of tuples:\n",
    "mixed_tuple = ('green', 'red', 'white', 'balck', (1, 2), 'hello')"
   ]
  },
  {
   "cell_type": "code",
   "execution_count": 2,
   "id": "e825062f-cb7f-4b1d-bf9c-07a38f8eb369",
   "metadata": {},
   "outputs": [],
   "source": [
    "# slicing the tuple from index 1 to 6:\n",
    "\n",
    "sliced_tuple = mixed_tuple[1:6]"
   ]
  },
  {
   "cell_type": "code",
   "execution_count": 6,
   "id": "4f99326e-0b58-4a9a-a12a-a02d331fbb11",
   "metadata": {},
   "outputs": [
    {
     "name": "stdout",
     "output_type": "stream",
     "text": [
      "Sliced Tuple: ('red', 'white', 'balck', (1, 2), 'hello')\n"
     ]
    }
   ],
   "source": [
    "# printing the sliced tuple:\n",
    "print('Sliced Tuple:', sliced_tuple)"
   ]
  },
  {
   "cell_type": "code",
   "execution_count": null,
   "id": "44042529-3cb7-445c-8e91-c31c3165e9b0",
   "metadata": {},
   "outputs": [],
   "source": []
  }
 ],
 "metadata": {
  "kernelspec": {
   "display_name": "Python 3 (ipykernel)",
   "language": "python",
   "name": "python3"
  },
  "language_info": {
   "codemirror_mode": {
    "name": "ipython",
    "version": 3
   },
   "file_extension": ".py",
   "mimetype": "text/x-python",
   "name": "python",
   "nbconvert_exporter": "python",
   "pygments_lexer": "ipython3",
   "version": "3.10.13"
  }
 },
 "nbformat": 4,
 "nbformat_minor": 5
}
