{
 "cells": [
  {
   "cell_type": "markdown",
   "id": "cddfaa53-9923-4796-b076-0214947c8516",
   "metadata": {},
   "source": [
    "# Example 3: Tuple Immutability\n",
    "# Tuples are immutable, meaning their values cannot be changed once created.\n",
    "# Trying to modify an element of a tuple will result in an error."
   ]
  },
  {
   "cell_type": "code",
   "execution_count": 1,
   "id": "8827f435-6b9d-4739-845b-3eb27115d0ae",
   "metadata": {},
   "outputs": [],
   "source": [
    "# example tuple:\n",
    "\n",
    "# my_tuple = (1, 2, 3)"
   ]
  },
  {
   "cell_type": "code",
   "execution_count": 5,
   "id": "73ce57b1-8d17-4fdc-9d41-39962cdc2929",
   "metadata": {},
   "outputs": [
    {
     "name": "stdout",
     "output_type": "stream",
     "text": [
      "Error: 'tuple' object does not support item assignment\n"
     ]
    }
   ],
   "source": [
    "# trying to modity an element:(this will raise in error)\n",
    "\n",
    "# try:\n",
    "#     my_tuple[0] = 10\n",
    "# except TypeError as e:\n",
    "#     print('Error:',e)\n"
   ]
  },
  {
   "cell_type": "code",
   "execution_count": 4,
   "id": "00ffaa15-ff4a-4973-bade-2b597d27be58",
   "metadata": {},
   "outputs": [],
   "source": [
    "# example of tuple:\n",
    "color_tuple = ('green', 'red', 'white', 'balck')"
   ]
  },
  {
   "cell_type": "code",
   "execution_count": 3,
   "id": "fc989a16-d901-43ed-8bc0-2502707e7bbb",
   "metadata": {},
   "outputs": [
    {
     "name": "stdout",
     "output_type": "stream",
     "text": [
      "Error:  'tuple' object does not support item assignment\n"
     ]
    }
   ],
   "source": [
    "# trying to modify an element :(this will raise in error)\n",
    "\n",
    "try:\n",
    "    color_tuple[0] = 'yellow'\n",
    "except TypeError as e:\n",
    "    print('Error: ', e)"
   ]
  },
  {
   "cell_type": "code",
   "execution_count": null,
   "id": "3ea7600a-ca24-487b-a222-6b777cad7690",
   "metadata": {},
   "outputs": [],
   "source": []
  }
 ],
 "metadata": {
  "kernelspec": {
   "display_name": "Python 3 (ipykernel)",
   "language": "python",
   "name": "python3"
  },
  "language_info": {
   "codemirror_mode": {
    "name": "ipython",
    "version": 3
   },
   "file_extension": ".py",
   "mimetype": "text/x-python",
   "name": "python",
   "nbconvert_exporter": "python",
   "pygments_lexer": "ipython3",
   "version": "3.10.13"
  }
 },
 "nbformat": 4,
 "nbformat_minor": 5
}
