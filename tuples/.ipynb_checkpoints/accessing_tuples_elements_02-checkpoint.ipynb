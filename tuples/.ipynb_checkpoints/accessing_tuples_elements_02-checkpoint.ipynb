{
 "cells": [
  {
   "cell_type": "markdown",
   "id": "1cca7115-0b1f-49ae-8ce6-d5e169ed3856",
   "metadata": {},
   "source": [
    "# Example 2: Accessing Tuple Elements\n",
    "# Elements in a tuple are accessed using indices, similar to lists.\n",
    "# Indexing starts from 0 (first element) and can also be negative (-1 for the last element).\n"
   ]
  },
  {
   "cell_type": "code",
   "execution_count": 1,
   "id": "cdbfbb48-2fe7-4238-bcb9-235a0baf8031",
   "metadata": {},
   "outputs": [],
   "source": [
    "# exaple tuple:\n",
    "\n",
    "my_tuple = (10, 20, 30, 40, 50)\n"
   ]
  },
  {
   "cell_type": "code",
   "execution_count": 2,
   "id": "528d4fe6-3e52-4db7-9bf4-3a5b7fc95a6e",
   "metadata": {},
   "outputs": [],
   "source": [
    "# accesssing elements using positive and negative slices:\n",
    "\n",
    "second_element = my_tuple[1]\n",
    "\n",
    "last_element = my_tuple[-1]"
   ]
  },
  {
   "cell_type": "code",
   "execution_count": 8,
   "id": "51599909-7f44-4efe-836c-a2ddab3d4e15",
   "metadata": {},
   "outputs": [
    {
     "name": "stdout",
     "output_type": "stream",
     "text": [
      "Second Element: 20\n",
      "Last Element: 50\n"
     ]
    }
   ],
   "source": [
    "# printing access elements:\n",
    "\n",
    "print('Second Element:',second_element)\n",
    "\n",
    "print('Last Element:' ,last_element)"
   ]
  },
  {
   "cell_type": "code",
   "execution_count": null,
   "id": "6caf0e33-a763-4539-9986-e45d098b52aa",
   "metadata": {},
   "outputs": [],
   "source": []
  }
 ],
 "metadata": {
  "kernelspec": {
   "display_name": "Python 3 (ipykernel)",
   "language": "python",
   "name": "python3"
  },
  "language_info": {
   "codemirror_mode": {
    "name": "ipython",
    "version": 3
   },
   "file_extension": ".py",
   "mimetype": "text/x-python",
   "name": "python",
   "nbconvert_exporter": "python",
   "pygments_lexer": "ipython3",
   "version": "3.10.13"
  }
 },
 "nbformat": 4,
 "nbformat_minor": 5
}
