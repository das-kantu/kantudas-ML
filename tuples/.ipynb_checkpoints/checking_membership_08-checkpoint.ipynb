{
 "cells": [
  {
   "cell_type": "markdown",
   "id": "a8b099f0-9250-45cc-ac4e-13bbda51e872",
   "metadata": {},
   "source": [
    "# Example 8: Checking Membership in a Tuple\n",
    "# You can use the 'in' keyword to check if an element exists in a tuple."
   ]
  },
  {
   "cell_type": "code",
   "execution_count": 1,
   "id": "fa18f6fe-7218-4603-9dba-46c279876df2",
   "metadata": {},
   "outputs": [],
   "source": [
    "# example tuple:\n",
    "\n",
    "# my_tuple = ('apple', 'banana', 'cherry')"
   ]
  },
  {
   "cell_type": "code",
   "execution_count": 2,
   "id": "a1ace138-c252-4c7b-9ac6-b670824c3e85",
   "metadata": {},
   "outputs": [
    {
     "name": "stdout",
     "output_type": "stream",
     "text": [
      "Banana is in the tuple\n"
     ]
    }
   ],
   "source": [
    "# checking for membership:\n",
    "\n",
    "# if 'banana' in my_tuple:\n",
    "#     print('Banana is in the tuple')\n",
    "# else:\n",
    "#     print('Banana is not in the tuple')"
   ]
  },
  {
   "cell_type": "code",
   "execution_count": 1,
   "id": "9d0eee6f-31f4-45d7-98e1-21a79c014bd8",
   "metadata": {},
   "outputs": [],
   "source": [
    "# example of tuples:\n",
    "color_tuples = ('red', 'green', 'yellow', 'black')"
   ]
  },
  {
   "cell_type": "code",
   "execution_count": 2,
   "id": "8ac57491-0545-4ec8-96f4-2f497bf72b03",
   "metadata": {},
   "outputs": [
    {
     "name": "stdout",
     "output_type": "stream",
     "text": [
      "Red is in the tuple\n"
     ]
    }
   ],
   "source": [
    "# checking for membership:\n",
    "\n",
    "if 'red' in color_tuples:\n",
    "    print('Red is in the tuple')\n",
    "else:\n",
    "    print('Red is not in the tuple')"
   ]
  },
  {
   "cell_type": "code",
   "execution_count": null,
   "id": "28332697-cd11-4a83-ae93-4d176d0eb7d2",
   "metadata": {},
   "outputs": [],
   "source": []
  }
 ],
 "metadata": {
  "kernelspec": {
   "display_name": "Python 3 (ipykernel)",
   "language": "python",
   "name": "python3"
  },
  "language_info": {
   "codemirror_mode": {
    "name": "ipython",
    "version": 3
   },
   "file_extension": ".py",
   "mimetype": "text/x-python",
   "name": "python",
   "nbconvert_exporter": "python",
   "pygments_lexer": "ipython3",
   "version": "3.10.13"
  }
 },
 "nbformat": 4,
 "nbformat_minor": 5
}
