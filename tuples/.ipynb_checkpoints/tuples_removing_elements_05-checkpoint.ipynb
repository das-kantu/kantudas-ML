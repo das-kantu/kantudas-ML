{
 "cells": [
  {
   "cell_type": "markdown",
   "id": "50b40c7c-7f65-4a4a-b848-aa869cfefc11",
   "metadata": {},
   "source": [
    "# Example 5: Removing Elements from a Tuple\n",
    "# Tuples are immutable, so elements cannot be removed directly.\n",
    "# To remove elements, you need to convert the tuple to a list and back to a tuple.\n"
   ]
  },
  {
   "cell_type": "code",
   "execution_count": 1,
   "id": "4df32ff2-b734-4b58-b54f-ad9321282798",
   "metadata": {},
   "outputs": [],
   "source": [
    "# example tuple:\n",
    "\n",
    "# my_tuple = (1, 2, 3, 4)"
   ]
  },
  {
   "cell_type": "code",
   "execution_count": 3,
   "id": "ccfdec3a-b58f-45a3-9b9f-2dec8d1689ea",
   "metadata": {},
   "outputs": [],
   "source": [
    "# converting to a list and removing items:\n",
    "\n",
    "# temp_list = list(my_tuple)\n",
    "\n",
    "# temp_list.remove(2)\n",
    "\n",
    "# my_tuple = tuple(temp_list)\n"
   ]
  },
  {
   "cell_type": "code",
   "execution_count": 5,
   "id": "4795c775-6340-41e1-9491-337cd5fffe1a",
   "metadata": {},
   "outputs": [
    {
     "name": "stdout",
     "output_type": "stream",
     "text": [
      "Tuple After Removal: (1, 3, 4)\n"
     ]
    }
   ],
   "source": [
    "# printing the tuple after removal:\n",
    "\n",
    "# print('Tuple After Removal:',my_tuple)"
   ]
  },
  {
   "cell_type": "code",
   "execution_count": 12,
   "id": "46147879-40d7-4c38-81a9-18586bcaa88a",
   "metadata": {},
   "outputs": [],
   "source": [
    "# example of tuples:\n",
    "mixed_tuple = ('green', 'red', 'white', 'balck', (1, 2), 'hello')"
   ]
  },
  {
   "cell_type": "code",
   "execution_count": 13,
   "id": "0240bb67-a274-4b1b-bc3f-2f6294538ad1",
   "metadata": {},
   "outputs": [],
   "source": [
    "# converting to a list and removing items:\n",
    "\n",
    "temp_list = list(mixed_tuple)\n",
    "\n",
    "temp_list.remove((1, 2))\n",
    "mixed_tuple = tuple(temp_list)"
   ]
  },
  {
   "cell_type": "code",
   "execution_count": 14,
   "id": "1c21a66e-20d7-4f3d-8c47-c34934e9eaed",
   "metadata": {},
   "outputs": [
    {
     "name": "stdout",
     "output_type": "stream",
     "text": [
      "('green', 'red', 'white', 'balck', 'hello')\n"
     ]
    }
   ],
   "source": [
    "print(mixed_tuple)"
   ]
  },
  {
   "cell_type": "code",
   "execution_count": null,
   "id": "1eb5c15d-e057-477c-a369-4ec16f2117d1",
   "metadata": {},
   "outputs": [],
   "source": []
  }
 ],
 "metadata": {
  "kernelspec": {
   "display_name": "Python 3 (ipykernel)",
   "language": "python",
   "name": "python3"
  },
  "language_info": {
   "codemirror_mode": {
    "name": "ipython",
    "version": 3
   },
   "file_extension": ".py",
   "mimetype": "text/x-python",
   "name": "python",
   "nbconvert_exporter": "python",
   "pygments_lexer": "ipython3",
   "version": "3.10.13"
  }
 },
 "nbformat": 4,
 "nbformat_minor": 5
}
