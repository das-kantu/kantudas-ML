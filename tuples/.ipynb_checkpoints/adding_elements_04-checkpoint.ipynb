{
 "cells": [
  {
   "cell_type": "markdown",
   "id": "7503ef22-c3ea-4445-9fde-e3677def0ff5",
   "metadata": {},
   "source": [
    "# Example 4: Adding Elements to a Tuple\n",
    "# Tuples are immutable, so you cannot add elements directly.\n",
    "# However, you can create a new tuple by concatenating the existing one with another tuple.\n"
   ]
  },
  {
   "cell_type": "code",
   "execution_count": 1,
   "id": "71dfdc1b-12ba-4b03-9972-fc19964c4218",
   "metadata": {},
   "outputs": [],
   "source": [
    "# example tuple:\n",
    "\n",
    "# my_tuple = (1, 2, 3)"
   ]
  },
  {
   "cell_type": "code",
   "execution_count": 3,
   "id": "6b4cf8dc-e5c6-4937-ad90-7df8fe90ce69",
   "metadata": {},
   "outputs": [],
   "source": [
    "# adding elements by creating new tuples:\n",
    "\n",
    "# my_tuple = my_tuple + (4,)"
   ]
  },
  {
   "cell_type": "code",
   "execution_count": 5,
   "id": "3e9f90d9-8395-4f33-b8f8-e1ae201feca6",
   "metadata": {},
   "outputs": [
    {
     "name": "stdout",
     "output_type": "stream",
     "text": [
      "Updated Tuple: (1, 2, 3, 4)\n"
     ]
    }
   ],
   "source": [
    "# printing the updated tuples:\n",
    "# print('Updated Tuple:', my_tuple)"
   ]
  },
  {
   "cell_type": "code",
   "execution_count": 6,
   "id": "087588c6-b569-41cb-9b8a-ee8ca277f9be",
   "metadata": {},
   "outputs": [],
   "source": [
    "# example of tuples:\n",
    "color_tuples = ('red', 'green', 'yellow')"
   ]
  },
  {
   "cell_type": "code",
   "execution_count": 7,
   "id": "b2182b94-b93f-42a5-ada2-8ad67ae06ff9",
   "metadata": {},
   "outputs": [],
   "source": [
    "# adding elements by creating new tuples:\n",
    "\n",
    "color_tuples =  color_tuples + ('white', )"
   ]
  },
  {
   "cell_type": "code",
   "execution_count": 9,
   "id": "ed2a4f13-ce2b-48cc-a761-4d02cfe1064e",
   "metadata": {},
   "outputs": [
    {
     "name": "stdout",
     "output_type": "stream",
     "text": [
      "Updated Tuples: ('red', 'green', 'yellow', 'white')\n"
     ]
    }
   ],
   "source": [
    "# printing the updated tuples:\n",
    "print('Updated Tuples:', color_tuples)"
   ]
  },
  {
   "cell_type": "code",
   "execution_count": null,
   "id": "1feb1168-1529-4c56-bd22-15e64012999f",
   "metadata": {},
   "outputs": [],
   "source": []
  }
 ],
 "metadata": {
  "kernelspec": {
   "display_name": "Python 3 (ipykernel)",
   "language": "python",
   "name": "python3"
  },
  "language_info": {
   "codemirror_mode": {
    "name": "ipython",
    "version": 3
   },
   "file_extension": ".py",
   "mimetype": "text/x-python",
   "name": "python",
   "nbconvert_exporter": "python",
   "pygments_lexer": "ipython3",
   "version": "3.10.13"
  }
 },
 "nbformat": 4,
 "nbformat_minor": 5
}
