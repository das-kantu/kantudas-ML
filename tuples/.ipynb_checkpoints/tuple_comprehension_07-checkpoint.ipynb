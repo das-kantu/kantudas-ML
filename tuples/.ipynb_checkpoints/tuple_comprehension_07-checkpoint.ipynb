{
 "cells": [
  {
   "cell_type": "markdown",
   "id": "8ceea5b6-b49d-433d-a7d4-3a2d1ed6dca1",
   "metadata": {},
   "source": [
    "# Example 7: Tuple Comprehension (using generator expression)\n",
    "# Tuples do not support comprehension like lists.\n",
    "# However, you can use a generator expression to create a tuple."
   ]
  },
  {
   "cell_type": "code",
   "execution_count": 1,
   "id": "29599287-455c-4cdd-919a-5b03946e11a1",
   "metadata": {},
   "outputs": [],
   "source": [
    "# creating a tuples of squares of numbers from 0 to 4:\n",
    "\n",
    "# squared_tuple = tuple(x **2 for x in range(5))"
   ]
  },
  {
   "cell_type": "code",
   "execution_count": 3,
   "id": "d87a7077-c453-45ed-a9a4-a4429b7c23ad",
   "metadata": {},
   "outputs": [
    {
     "name": "stdout",
     "output_type": "stream",
     "text": [
      "Squared Tuple: (0, 1, 4, 9, 16)\n"
     ]
    }
   ],
   "source": [
    "# printing the tuple:\n",
    "\n",
    "# print('Squared Tuple:',squared_tuple)"
   ]
  },
  {
   "cell_type": "code",
   "execution_count": 1,
   "id": "b496de4c-fd63-4b0c-b0f1-93b7e8da0d0b",
   "metadata": {},
   "outputs": [],
   "source": [
    "# creating a tuples of cube of numbers from 0 to 8:\n",
    "\n",
    "cube_tuple = tuple(x **3 for x in range(9))"
   ]
  },
  {
   "cell_type": "code",
   "execution_count": 2,
   "id": "dae94f0b-d7c2-41aa-a622-f0b100aca024",
   "metadata": {},
   "outputs": [
    {
     "name": "stdout",
     "output_type": "stream",
     "text": [
      "Cube Tuple:  (0, 1, 8, 27, 64, 125, 216, 343, 512)\n"
     ]
    }
   ],
   "source": [
    "# printing the tuple:\n",
    "\n",
    "print('Cube Tuple: ', cube_tuple)"
   ]
  },
  {
   "cell_type": "code",
   "execution_count": null,
   "id": "3d36bb0b-f934-4554-abbf-3f77a6de86b6",
   "metadata": {},
   "outputs": [],
   "source": []
  }
 ],
 "metadata": {
  "kernelspec": {
   "display_name": "Python 3 (ipykernel)",
   "language": "python",
   "name": "python3"
  },
  "language_info": {
   "codemirror_mode": {
    "name": "ipython",
    "version": 3
   },
   "file_extension": ".py",
   "mimetype": "text/x-python",
   "name": "python",
   "nbconvert_exporter": "python",
   "pygments_lexer": "ipython3",
   "version": "3.10.13"
  }
 },
 "nbformat": 4,
 "nbformat_minor": 5
}
