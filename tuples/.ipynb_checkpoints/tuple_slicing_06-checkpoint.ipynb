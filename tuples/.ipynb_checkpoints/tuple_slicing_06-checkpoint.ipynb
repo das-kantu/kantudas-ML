{
 "cells": [
  {
   "cell_type": "markdown",
   "id": "ba6a03e6-c71b-4f3c-81c7-cedca8b3a370",
   "metadata": {},
   "source": [
    "# Example 6: Tuple Slicing\n",
    "# Slicing allows you to extract a part of the tuple.\n",
    "# It is done using a colon (:) to specify start, stop, and step indices."
   ]
  },
  {
   "cell_type": "code",
   "execution_count": 1,
   "id": "75ca75d6-2384-4f33-abbf-6b3f640c8447",
   "metadata": {},
   "outputs": [],
   "source": [
    "# example tuple:\n",
    "\n",
    "my_tuple = (10, 20, 30, 40, 50)"
   ]
  },
  {
   "cell_type": "code",
   "execution_count": 2,
   "id": "4e7c6e18-dfac-406d-9020-5b227a28b0db",
   "metadata": {},
   "outputs": [],
   "source": [
    "# slicing the tuple from index 1 to 4:\n",
    "\n",
    "sliced_tuple = my_tuple[1:4]\n"
   ]
  },
  {
   "cell_type": "code",
   "execution_count": 4,
   "id": "fc6bd810-840c-48f2-b5c5-16d8d3c8b584",
   "metadata": {},
   "outputs": [
    {
     "name": "stdout",
     "output_type": "stream",
     "text": [
      "Sliced Tuple: (20, 30, 40)\n"
     ]
    }
   ],
   "source": [
    "# printing the sliced tuple:\n",
    "\n",
    "print('Sliced Tuple:',sliced_tuple)"
   ]
  },
  {
   "cell_type": "code",
   "execution_count": null,
   "id": "ed27f457-1609-4708-ba5e-22b1b804d2bd",
   "metadata": {},
   "outputs": [],
   "source": []
  }
 ],
 "metadata": {
  "kernelspec": {
   "display_name": "Python 3 (ipykernel)",
   "language": "python",
   "name": "python3"
  },
  "language_info": {
   "codemirror_mode": {
    "name": "ipython",
    "version": 3
   },
   "file_extension": ".py",
   "mimetype": "text/x-python",
   "name": "python",
   "nbconvert_exporter": "python",
   "pygments_lexer": "ipython3",
   "version": "3.10.13"
  }
 },
 "nbformat": 4,
 "nbformat_minor": 5
}
